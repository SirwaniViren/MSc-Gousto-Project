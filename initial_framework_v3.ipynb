{
  "nbformat": 4,
  "nbformat_minor": 0,
  "metadata": {
    "colab": {
      "provenance": [],
      "include_colab_link": true
    },
    "kernelspec": {
      "name": "python3",
      "display_name": "Python 3"
    },
    "language_info": {
      "name": "python"
    }
  },
  "cells": [
    {
      "cell_type": "markdown",
      "metadata": {
        "id": "view-in-github",
        "colab_type": "text"
      },
      "source": [
        "<a href=\"https://colab.research.google.com/github/SirwaniViren/MSc-Gousto-Project/blob/main/initial_framework_v3.ipynb\" target=\"_parent\"><img src=\"https://colab.research.google.com/assets/colab-badge.svg\" alt=\"Open In Colab\"/></a>"
      ]
    },
    {
      "cell_type": "code",
      "execution_count": 1,
      "metadata": {
        "id": "gz3YANJdc2Rs"
      },
      "outputs": [],
      "source": [
        "import math\n",
        "import numpy as np\n",
        "import pandas as pd\n",
        "import random\n",
        "from collections import defaultdict\n",
        "from random import randrange"
      ]
    },
    {
      "cell_type": "code",
      "source": [
        "random.seed(42)"
      ],
      "metadata": {
        "id": "36G4Uni8nKHA"
      },
      "execution_count": 2,
      "outputs": []
    },
    {
      "cell_type": "code",
      "source": [
        "def create_eligibility_dict(num_factory, num_items):\n",
        "    items = list(range(100, 100 + num_items * 10, 10))\n",
        "    eligibility_dict = {}\n",
        "\n",
        "    # Start with a small number of items for the first factory\n",
        "    num_eligible_items = random.randint(1, 10)\n",
        "\n",
        "    for i in range(1, num_factory + 1):\n",
        "        if i == num_factory:\n",
        "            # Last factory gets all items\n",
        "            eligibility_dict[f\"F{i}\"] = items\n",
        "        else:\n",
        "            eligibility_dict[f\"F{i}\"] = items[:num_eligible_items]\n",
        "            # Randomly determine the number of additional items for the next factory, allowing for fluctuations\n",
        "            num_eligible_items += random.randint(-5, 15)\n",
        "            # Ensure num_eligible_items is within bounds and at least 1\n",
        "            num_eligible_items = max(1, min(num_eligible_items, num_items))\n",
        "\n",
        "    return eligibility_dict"
      ],
      "metadata": {
        "id": "M4M3-erOmy-k"
      },
      "execution_count": null,
      "outputs": []
    },
    {
      "cell_type": "code",
      "source": [
        "def create_factory_caps(num_factory, max_boxes):\n",
        "  factory_caps = {\"F\" + str(i): randrange(1, max_boxes) for i in range(1, (num_factory + 1))}\n",
        "  num_recipies = sum(factory_caps.values())\n",
        "  return factory_caps, num_recipies\n",
        "\n",
        "def generate_orders(num_recipies_ordered, num_items, max_items_per_order=5):\n",
        "    items = list(range(100, 100 + num_items * 10, 10))\n",
        "    orders = []\n",
        "    order_id = 1\n",
        "\n",
        "    while num_recipies_ordered > 0:\n",
        "        num_items_in_order = min(random.randint(1, max_items_per_order), num_recipies_ordered)\n",
        "        order_items = random.sample(items, num_items_in_order)\n",
        "        for item in order_items:\n",
        "            orders.append({'order_id': order_id, 'item_id': item})\n",
        "        num_recipies_ordered -= num_items_in_order\n",
        "        order_id += 1\n",
        "\n",
        "    orders_df = pd.DataFrame(orders)\n",
        "    return orders_df"
      ],
      "metadata": {
        "id": "edz5nn-kblF3"
      },
      "execution_count": 20,
      "outputs": []
    },
    {
      "cell_type": "code",
      "source": [
        "def compute_orders_eligibility(orders_df, eligibility_dict):\n",
        "    orders_eligibility = []\n",
        "\n",
        "    for order_id in orders_df['order_id'].unique():\n",
        "        order_items = orders_df[orders_df['order_id'] == order_id]['item_id'].tolist()\n",
        "        eligible_factories = []\n",
        "        for factory, items in eligibility_dict.items():\n",
        "            if all(item in items for item in order_items):\n",
        "                eligible_factories.append(factory)\n",
        "        orders_eligibility.append({'order_id': order_id, 'eligibility': eligible_factories})\n",
        "\n",
        "    orders_eligibility_df = pd.DataFrame(orders_eligibility)\n",
        "    return orders_eligibility_df"
      ],
      "metadata": {
        "id": "ltGQBfIjXlJ8"
      },
      "execution_count": null,
      "outputs": []
    },
    {
      "cell_type": "code",
      "source": [
        "factory_caps, num_recipies = create_factory_caps(20, 100)\n",
        "orders = generate_orders(num_recipies, 100)\n",
        "orders"
      ],
      "metadata": {
        "id": "ZNLo8HCtn8OT"
      },
      "execution_count": null,
      "outputs": []
    },
    {
      "cell_type": "code",
      "source": [
        "# Function to allocate items\n",
        "def allocate_items_greedy(orders_df, factory_caps, eligibility_id):\n",
        "  allocation = defaultdict(lambda: defaultdict(int))\n",
        "  current_order_id = None\n",
        "  current_items = []\n",
        "  current_sites = []\n",
        "\n",
        "  for row in orders_df.itertuples():\n",
        "    order_id = row.order_id\n",
        "    item_id = row.item_id\n",
        "    site = row.site\n",
        "\n",
        "    if current_order_id is None:\n",
        "        current_order_id = order_id\n",
        "\n",
        "    if order_id != current_order_id:\n",
        "        # Allocate items for the previous order\n",
        "        for s in current_sites:\n",
        "            if all(item in eligibility_id[s] for item in current_items) and factory_caps[s] > 0:\n",
        "                for item in current_items:\n",
        "                    allocation[item][s] += 1\n",
        "                factory_caps[s] -= 1\n",
        "                break\n",
        "\n",
        "        # Reset for the new order\n",
        "        current_order_id = order_id\n",
        "        current_items = []\n",
        "        current_sites = []\n",
        "\n",
        "    current_items.append(item_id)\n",
        "    current_sites.append(site)\n",
        "\n",
        "  # Allocate items for the last order\n",
        "  for s in current_sites:\n",
        "    if all(item in eligibility_id[s] for item in current_items) and factory_caps[s] > 0:\n",
        "      for item in current_items:\n",
        "        allocation[item][s] += 1\n",
        "      factory_caps[s] -= 1\n",
        "      break\n",
        "\n",
        "  return allocation\n",
        "\n",
        "\n",
        "# Allocate items for LD5\n",
        "ld5_allocation = allocate_items_greedy(orders_to_recipe_ld5_df, factory_caps.copy(), eligibility_id)\n",
        "ld0_allocation = allocate_items_greedy(orders_to_recipe_ld0_df, factory_caps.copy(), eligibility_id)"
      ],
      "metadata": {
        "id": "Yhpp4j6GRMz2"
      },
      "execution_count": null,
      "outputs": []
    },
    {
      "cell_type": "code",
      "source": [
        "def convert_dict_df(allocation_dict, alloc_day):\n",
        "  # Convert allocation to dictionary with required format\n",
        "  allocation_result = []\n",
        "  for item_id, sites in allocation_dict.items():\n",
        "      for site, count in sites.items():\n",
        "          allocation_result.append({'item_id': item_id, 'site': site, alloc_day: count})\n",
        "\n",
        "  return pd.DataFrame(allocation_result)\n",
        "\n",
        "ld5_df = convert_dict_df(allocation_dict=ld5_allocation, alloc_day='lead_5')\n",
        "ld0_df = convert_dict_df(allocation_dict=ld0_allocation, alloc_day='lead_0')"
      ],
      "metadata": {
        "id": "LJD-g7EcYgZG"
      },
      "execution_count": null,
      "outputs": []
    },
    {
      "cell_type": "code",
      "source": [
        "def merge_allocation(ld5_df, ld0_df):\n",
        "    # Merge the two dataframes on 'item_id' and 'site'\n",
        "    merged_df = pd.merge(ld5_df, ld0_df, on=['item_id', 'site'], how='outer')\n",
        "\n",
        "    # Fill NaN values with zeros\n",
        "    merged_df.fillna(0, inplace=True)\n",
        "\n",
        "    # Ensure the integer type for lead_5 and lead_0 columns\n",
        "    merged_df['lead_5'] = merged_df['lead_5'].astype(int)\n",
        "    merged_df['lead_0'] = merged_df['lead_0'].astype(int)\n",
        "\n",
        "    return merged_df\n",
        "\n",
        "# Merge the dataframes and calculate the absolute error\n",
        "merged_df = merge_allocation(ld5_df, ld0_df)\n",
        "total_forecast = merged_df[\"lead_5\"].sum()"
      ],
      "metadata": {
        "id": "DRKoDOeXM5Ib"
      },
      "execution_count": null,
      "outputs": []
    },
    {
      "cell_type": "code",
      "source": [
        "print(merged_df)"
      ],
      "metadata": {
        "id": "Aywih5zbcah_",
        "outputId": "f4c198d2-3af5-4d45-caf9-52078d4bd1f5",
        "colab": {
          "base_uri": "https://localhost:8080/"
        }
      },
      "execution_count": null,
      "outputs": [
        {
          "output_type": "stream",
          "name": "stdout",
          "text": [
            "    item_id site  lead_5  lead_0\n",
            "0        10   F1       1       1\n",
            "1        10   F2       1       1\n",
            "2        10   F3       1       0\n",
            "3        20   F1       1       0\n",
            "4        20   F3       1       2\n",
            "5        20   F2       1       0\n",
            "6        50   F1       1       0\n",
            "7        50   F3       1       1\n",
            "8        30   F2       2       1\n",
            "9        40   F3       1       0\n",
            "10       30   F3       0       1\n",
            "11       40   F1       0       1\n"
          ]
        }
      ]
    },
    {
      "cell_type": "code",
      "source": [
        "site_df = merged_df.copy()\n",
        "site_df['abs_error'] = (site_df['lead_5'] - site_df['lead_0']).abs()\n",
        "print(site_df)\n",
        "\n",
        "# Calculate WMAPE_site\n",
        "wmape_site = site_df[\"abs_error\"].sum() / total_forecast\n",
        "\n",
        "# Display WMAPE_site\n",
        "print(f\"\\nWeighted Mean Absolute Percentage Error (WMAPE) Site: {wmape_site:.4f}\")"
      ],
      "metadata": {
        "id": "1K7YI8czccdq",
        "outputId": "041d442d-c4f4-424a-dc99-e704864b660c",
        "colab": {
          "base_uri": "https://localhost:8080/"
        }
      },
      "execution_count": null,
      "outputs": [
        {
          "output_type": "stream",
          "name": "stdout",
          "text": [
            "    item_id site  lead_5  lead_0  abs_error\n",
            "0        10   F1       1       1          0\n",
            "1        10   F2       1       1          0\n",
            "2        10   F3       1       0          1\n",
            "3        20   F1       1       0          1\n",
            "4        20   F3       1       2          1\n",
            "5        20   F2       1       0          1\n",
            "6        50   F1       1       0          1\n",
            "7        50   F3       1       1          0\n",
            "8        30   F2       2       1          1\n",
            "9        40   F3       1       0          1\n",
            "10       30   F3       0       1          1\n",
            "11       40   F1       0       1          1\n",
            "\n",
            "Weighted Mean Absolute Percentage Error (WMAPE) Site: 0.8182\n"
          ]
        }
      ]
    },
    {
      "cell_type": "code",
      "source": [
        "global_df = merged_df.copy()\n",
        "global_df = global_df.groupby('item_id').sum().reset_index()\n",
        "global_df['abs_error'] = (global_df['lead_5'] - global_df['lead_0']).abs()\n",
        "global_df = global_df.drop(['site'], axis=1)\n",
        "print(global_df)\n",
        "\n",
        "\n",
        "# Calculate WMAPE_site\n",
        "wmape_global = global_df[\"abs_error\"].sum() / total_forecast\n",
        "\n",
        "# Display WMAPE_site\n",
        "print(f\"\\nWeighted Mean Absolute Percentage Error (WMAPE) Global: {wmape_global:.4f}\")"
      ],
      "metadata": {
        "id": "OJ_Hqa_thXkd",
        "outputId": "afd592b5-eb1f-411f-aa61-61ac45edae55",
        "colab": {
          "base_uri": "https://localhost:8080/"
        }
      },
      "execution_count": null,
      "outputs": [
        {
          "output_type": "stream",
          "name": "stdout",
          "text": [
            "   item_id  lead_5  lead_0  abs_error\n",
            "0       10       3       2          1\n",
            "1       20       3       2          1\n",
            "2       30       2       2          0\n",
            "3       40       1       1          0\n",
            "4       50       2       1          1\n",
            "\n",
            "Weighted Mean Absolute Percentage Error (WMAPE) Global: 0.2727\n"
          ]
        }
      ]
    },
    {
      "cell_type": "code",
      "source": [],
      "metadata": {
        "id": "cUgFGh2niyb9"
      },
      "execution_count": null,
      "outputs": []
    }
  ]
}