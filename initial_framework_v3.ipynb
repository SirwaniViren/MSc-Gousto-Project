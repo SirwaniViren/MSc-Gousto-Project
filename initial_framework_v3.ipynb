{
  "nbformat": 4,
  "nbformat_minor": 0,
  "metadata": {
    "colab": {
      "provenance": [],
      "include_colab_link": true
    },
    "kernelspec": {
      "name": "python3",
      "display_name": "Python 3"
    },
    "language_info": {
      "name": "python"
    }
  },
  "cells": [
    {
      "cell_type": "markdown",
      "metadata": {
        "id": "view-in-github",
        "colab_type": "text"
      },
      "source": [
        "<a href=\"https://colab.research.google.com/github/SirwaniViren/MSc-Gousto-Project/blob/main/initial_framework_v3.ipynb\" target=\"_parent\"><img src=\"https://colab.research.google.com/assets/colab-badge.svg\" alt=\"Open In Colab\"/></a>"
      ]
    },
    {
      "cell_type": "code",
      "execution_count": null,
      "metadata": {
        "id": "gz3YANJdc2Rs"
      },
      "outputs": [],
      "source": [
        "import math\n",
        "import numpy as np\n",
        "import pandas as pd\n",
        "import random\n",
        "from collections import defaultdict\n",
        "from random import randrange\n",
        "import matplotlib.pyplot as plt"
      ]
    },
    {
      "cell_type": "code",
      "source": [
        "random.seed(42)"
      ],
      "metadata": {
        "id": "36G4Uni8nKHA"
      },
      "execution_count": null,
      "outputs": []
    },
    {
      "cell_type": "code",
      "source": [
        "def create_eligibility_dict(num_factories, num_items):\n",
        "    items = list(range(100, 100 + num_items * 10, 10))\n",
        "    eligibility_dict = {}\n",
        "\n",
        "    # Start with a base number of items for the first factory\n",
        "    num_eligible_items = random.randint(5, 15)\n",
        "\n",
        "    for i in range(1, num_factories + 1):\n",
        "        if i == num_factories:\n",
        "            # Last factory gets all items\n",
        "            eligibility_dict[f\"F{i}\"] = items\n",
        "        else:\n",
        "            eligibility_dict[f\"F{i}\"] = items[:num_eligible_items]\n",
        "            # Randomly determine the number of additional items for the next factory\n",
        "            num_eligible_items += random.randint(1, 10)\n",
        "            # Ensure num_eligible_items does not exceed the total number of items\n",
        "            num_eligible_items = min(num_eligible_items, num_items)\n",
        "\n",
        "    return eligibility_dict"
      ],
      "metadata": {
        "id": "M4M3-erOmy-k"
      },
      "execution_count": null,
      "outputs": []
    },
    {
      "cell_type": "code",
      "source": [
        "def create_factory_caps(num_factory, max_boxes):\n",
        "    factory_caps = {}\n",
        "    # Start with an initial capacity for the first factory\n",
        "    cap = random.randint(1, max_boxes // 10)  # Starting with a base capacity\n",
        "\n",
        "    for i in range(1, num_factory + 1):\n",
        "        if i == num_factory:\n",
        "            # Last factory gets infinite capacity\n",
        "            factory_caps[f\"F{i}\"] = float('inf')\n",
        "        else:\n",
        "            factory_caps[f\"F{i}\"] = cap\n",
        "            # Randomly increase the capacity for the next factory\n",
        "            cap += random.randint(1, max_boxes // 10)\n",
        "            # Ensure the capacity does not exceed max_boxes\n",
        "            cap = min(cap, max_boxes)\n",
        "\n",
        "    return factory_caps\n",
        "\n",
        "\n",
        "def generate_total_boxes(factory_caps, min_extra_boxes, max_extra_boxes):\n",
        "    # Calculate total capacity excluding the infinite capacity\n",
        "    finite_capacity = sum(cap for cap in factory_caps.values() if cap != float('inf'))\n",
        "\n",
        "    # Add a random number of extra boxes to exceed the total capacity\n",
        "    extra_boxes = random.randint(min_extra_boxes, max_extra_boxes)\n",
        "    total_boxes = finite_capacity + extra_boxes\n",
        "\n",
        "    return total_boxes"
      ],
      "metadata": {
        "id": "edz5nn-kblF3"
      },
      "execution_count": null,
      "outputs": []
    },
    {
      "cell_type": "code",
      "source": [
        "def generate_orders(total_boxes, num_items, max_items_per_order=5):\n",
        "    items = list(range(100, 100 + num_items * 10, 10))\n",
        "    orders = []\n",
        "    order_id = 1\n",
        "\n",
        "    while total_boxes > 0:\n",
        "        num_items_in_order = min(random.randint(1, max_items_per_order), total_boxes)\n",
        "        order_items = random.sample(items, num_items_in_order)\n",
        "        for item in order_items:\n",
        "            orders.append({'order_id': order_id, 'item_id': item})\n",
        "        total_boxes -= 1\n",
        "        order_id += 1\n",
        "\n",
        "    orders_df = pd.DataFrame(orders)\n",
        "    return orders_df"
      ],
      "metadata": {
        "id": "KCRYuQ3CvCkT"
      },
      "execution_count": null,
      "outputs": []
    },
    {
      "cell_type": "code",
      "source": [
        "def compute_orders_eligibility(orders_df, eligibility_dict):\n",
        "    orders_eligibility = []\n",
        "\n",
        "    for order_id in orders_df['order_id'].unique():\n",
        "        order_items = orders_df[orders_df['order_id'] == order_id]['item_id'].tolist()\n",
        "        eligible_factories = []\n",
        "        for factory, items in eligibility_dict.items():\n",
        "            if all(item in items for item in order_items):\n",
        "                eligible_factories.append(factory)\n",
        "        orders_eligibility.append({'order_id': order_id, 'eligibility': eligible_factories})\n",
        "\n",
        "    orders_eligibility_df = pd.DataFrame(orders_eligibility)\n",
        "    return orders_eligibility_df"
      ],
      "metadata": {
        "id": "ltGQBfIjXlJ8"
      },
      "execution_count": null,
      "outputs": []
    },
    {
      "cell_type": "code",
      "source": [
        "eligibility_dict = create_eligibility_dict(20, 100)\n",
        "factory_caps = create_factory_caps(20, 100)\n",
        "total_boxes = generate_total_boxes(factory_caps, 1000, 2000)\n",
        "orders = generate_orders(total_boxes, 100, 5)\n",
        "order_eligibility = compute_orders_eligibility(orders, eligibility_dict)\n",
        "\n",
        "# print to check\n",
        "print(list(eligibility_dict.items())[:10])\n",
        "print(\"\\n\")\n",
        "print(list(factory_caps.items())[:10])\n",
        "print(\"\\n\")\n",
        "print(orders.head())\n",
        "print(\"\\n\")\n",
        "print(order_eligibility.head())\n"
      ],
      "metadata": {
        "colab": {
          "base_uri": "https://localhost:8080/"
        },
        "id": "ZNLo8HCtn8OT",
        "outputId": "e3010e85-a09b-4658-d6fa-f8916924e7db"
      },
      "execution_count": null,
      "outputs": [
        {
          "output_type": "stream",
          "name": "stdout",
          "text": [
            "[('F1', [100, 110, 120, 130, 140, 150, 160, 170, 180, 190, 200, 210, 220, 230]), ('F2', [100, 110, 120, 130, 140, 150, 160, 170, 180, 190, 200, 210, 220, 230, 240, 250, 260, 270, 280]), ('F3', [100, 110, 120, 130, 140, 150, 160, 170, 180, 190, 200, 210, 220, 230, 240, 250, 260, 270, 280, 290, 300, 310, 320, 330, 340]), ('F4', [100, 110, 120, 130, 140, 150, 160, 170, 180, 190, 200, 210, 220, 230, 240, 250, 260, 270, 280, 290, 300, 310, 320, 330, 340, 350]), ('F5', [100, 110, 120, 130, 140, 150, 160, 170, 180, 190, 200, 210, 220, 230, 240, 250, 260, 270, 280, 290, 300, 310, 320, 330, 340, 350, 360, 370, 380, 390, 400, 410]), ('F6', [100, 110, 120, 130, 140, 150, 160, 170, 180, 190, 200, 210, 220, 230, 240, 250, 260, 270, 280, 290, 300, 310, 320, 330, 340, 350, 360, 370, 380, 390, 400, 410, 420, 430, 440, 450, 460]), ('F7', [100, 110, 120, 130, 140, 150, 160, 170, 180, 190, 200, 210, 220, 230, 240, 250, 260, 270, 280, 290, 300, 310, 320, 330, 340, 350, 360, 370, 380, 390, 400, 410, 420, 430, 440, 450, 460, 470, 480, 490, 500, 510, 520, 530, 540, 550, 560]), ('F8', [100, 110, 120, 130, 140, 150, 160, 170, 180, 190, 200, 210, 220, 230, 240, 250, 260, 270, 280, 290, 300, 310, 320, 330, 340, 350, 360, 370, 380, 390, 400, 410, 420, 430, 440, 450, 460, 470, 480, 490, 500, 510, 520, 530, 540, 550, 560, 570, 580, 590, 600, 610, 620]), ('F9', [100, 110, 120, 130, 140, 150, 160, 170, 180, 190, 200, 210, 220, 230, 240, 250, 260, 270, 280, 290, 300, 310, 320, 330, 340, 350, 360, 370, 380, 390, 400, 410, 420, 430, 440, 450, 460, 470, 480, 490, 500, 510, 520, 530, 540, 550, 560, 570, 580, 590, 600, 610, 620, 630, 640, 650]), ('F10', [100, 110, 120, 130, 140, 150, 160, 170, 180, 190, 200, 210, 220, 230, 240, 250, 260, 270, 280, 290, 300, 310, 320, 330, 340, 350, 360, 370, 380, 390, 400, 410, 420, 430, 440, 450, 460, 470, 480, 490, 500, 510, 520, 530, 540, 550, 560, 570, 580, 590, 600, 610, 620, 630, 640, 650, 660, 670, 680])]\n",
            "\n",
            "\n",
            "[('F1', 1), ('F2', 7), ('F3', 16), ('F4', 22), ('F5', 32), ('F6', 35), ('F7', 43), ('F8', 51), ('F9', 57), ('F10', 59)]\n",
            "\n",
            "\n",
            "   order_id  item_id\n",
            "0         1     1010\n",
            "1         2      170\n",
            "2         2     1090\n",
            "3         2      330\n",
            "4         3      650\n",
            "\n",
            "\n",
            "   order_id                                        eligibility\n",
            "0         1                     [F15, F16, F17, F18, F19, F20]\n",
            "1         2                          [F16, F17, F18, F19, F20]\n",
            "2         3      [F12, F13, F14, F15, F16, F17, F18, F19, F20]\n",
            "3         4           [F13, F14, F15, F16, F17, F18, F19, F20]\n",
            "4         5  [F6, F7, F8, F9, F10, F11, F12, F13, F14, F15,...\n"
          ]
        }
      ]
    },
    {
      "cell_type": "code",
      "source": [
        "def allocate_orders(allocated_orders, allocated_order_eligibility, allocated_factory_caps):\n",
        "\n",
        "    # Initialize columns\n",
        "    allocated_orders['site'] = 'not_routed'\n",
        "    allocated_order_eligibility['allocated'] = False\n",
        "\n",
        "    # Iterate through each factory except the catch-all\n",
        "    for factory in list(allocated_factory_caps.keys())[:-1]:\n",
        "        cap = allocated_factory_caps[factory]\n",
        "\n",
        "        # Get set S of unrouted orders eligible to the current factory\n",
        "        eligible_orders = allocated_order_eligibility[(allocated_order_eligibility['allocated'] == False) &\n",
        "                               (allocated_order_eligibility['eligibility'].apply(lambda i: factory in i))]\n",
        "\n",
        "        if len(eligible_orders) < cap:\n",
        "            raise ValueError(f'Not enough eligible orders for {factory}')\n",
        "        else:\n",
        "            for _ in range(cap):\n",
        "                # Pick a random order from the eligible list\n",
        "                selected_order = eligible_orders.sample(1).iloc[0]\n",
        "                order_id = selected_order['order_id']\n",
        "\n",
        "                # Allocate items in df_X\n",
        "                allocated_orders.loc[orders['order_id'] == order_id, 'site'] = factory\n",
        "\n",
        "                # Mark the order as allocated in df_Y\n",
        "                allocated_order_eligibility.loc[allocated_order_eligibility['order_id'] == order_id, 'allocated'] = True\n",
        "\n",
        "                # Update the eligible_orders to exclude the allocated order\n",
        "                eligible_orders = eligible_orders[eligible_orders['order_id'] != order_id]\n",
        "\n",
        "    # Allocate remaining orders to catch-all\n",
        "    remaining_orders = allocated_order_eligibility[allocated_order_eligibility['allocated'] == False]\n",
        "    for order_id in remaining_orders['order_id']:\n",
        "        allocated_orders.loc[orders['order_id'] == order_id, 'site'] = list(allocated_factory_caps.keys())[-1]\n",
        "        allocated_order_eligibility.loc[allocated_order_eligibility['order_id'] == order_id, 'allocated'] = True\n",
        "\n",
        "    return allocated_orders\n"
      ],
      "metadata": {
        "id": "JZiceeV6G6Ei"
      },
      "execution_count": null,
      "outputs": []
    },
    {
      "cell_type": "code",
      "source": [
        "ld10_allocation = allocate_orders(orders.copy(), order_eligibility.copy(), factory_caps.copy())\n",
        "ld5_allocation = allocate_orders(orders.copy(), order_eligibility.copy(), factory_caps.copy())\n",
        "ld0_allocation = allocate_orders(orders.copy(), order_eligibility.copy(), factory_caps.copy())"
      ],
      "metadata": {
        "id": "wfv6zue-NG-R"
      },
      "execution_count": null,
      "outputs": []
    },
    {
      "cell_type": "code",
      "source": [
        "def aggregate_items(allocated_orders_df, day):\n",
        "    lead_day = 'lead_' + str(day)\n",
        "    aggregated_df = allocated_orders_df.groupby(['item_id', 'site']).size().reset_index(name=lead_day)\n",
        "    return aggregated_df"
      ],
      "metadata": {
        "id": "al4uqikeQUkK"
      },
      "execution_count": null,
      "outputs": []
    },
    {
      "cell_type": "code",
      "source": [
        "aggregated_ld10 = aggregate_items(ld10_allocation, 10)\n",
        "aggregated_ld5 = aggregate_items(ld5_allocation, 5)\n",
        "aggregated_ld0 = aggregate_items(ld0_allocation, 0)"
      ],
      "metadata": {
        "id": "dPVxMJRlQngP"
      },
      "execution_count": null,
      "outputs": []
    },
    {
      "cell_type": "code",
      "source": [
        "def merge_allocation(soft_df, hard_df, soft_num, hard_num):\n",
        "    soft_day = 'lead_' + str(soft_num)\n",
        "    hard_day = 'lead_' + str(hard_num)\n",
        "    # Merge the two dataframes on 'item_id' and 'site'\n",
        "    merged_df = pd.merge(soft_df, hard_df, on=['item_id', 'site'], how='outer')\n",
        "\n",
        "    # Fill NaN values with zeros\n",
        "    merged_df.fillna(0, inplace=True)\n",
        "\n",
        "    # Ensure the integer type for lead_5 and lead_0 columns\n",
        "    merged_df[soft_day] = merged_df[soft_day].astype(int)\n",
        "    merged_df[hard_day] = merged_df[hard_day].astype(int)\n",
        "\n",
        "    return merged_df"
      ],
      "metadata": {
        "id": "DRKoDOeXM5Ib"
      },
      "execution_count": null,
      "outputs": []
    },
    {
      "cell_type": "code",
      "source": [
        "# Merge the dataframes and calculate the absolute error\n",
        "merged_10_0_df = merge_allocation(aggregated_ld10, aggregated_ld0, soft_num=10, hard_num=0)\n",
        "merged_5_0_df = merge_allocation(aggregated_ld5, aggregated_ld0, soft_num=5, hard_num=0)"
      ],
      "metadata": {
        "id": "uLlJb2dTSQ_I"
      },
      "execution_count": null,
      "outputs": []
    },
    {
      "cell_type": "code",
      "source": [
        "def calculate_wmape_site(merged_df, soft_col, hard_col):\n",
        "    total_forecast = merged_df[\"lead_0\"].sum()\n",
        "    site_df = merged_df.copy()\n",
        "    site_df['abs_error'] = (site_df[soft_col] - site_df[hard_col]).abs()\n",
        "\n",
        "    # Calculate WMAPE_site\n",
        "    wmape_site = site_df[\"abs_error\"].sum() / total_forecast\n",
        "\n",
        "    return site_df, wmape_site"
      ],
      "metadata": {
        "id": "X_d1-8imTrmX"
      },
      "execution_count": null,
      "outputs": []
    },
    {
      "cell_type": "code",
      "source": [
        "def calculate_wmape_global(merged_df, soft_col, hard_col):\n",
        "    total_forecast = merged_df[\"lead_0\"].sum()\n",
        "    global_df = merged_df.copy()\n",
        "    global_df = global_df.groupby('item_id').sum().reset_index()\n",
        "    global_df['abs_error'] = (global_df[soft_col] - global_df[hard_col]).abs()\n",
        "    global_df = global_df.drop(['site'], axis=1, errors='ignore')\n",
        "\n",
        "    # Calculate WMAPE_global\n",
        "    wmape_global = global_df[\"abs_error\"].sum() / total_forecast\n",
        "\n",
        "    return global_df, wmape_global"
      ],
      "metadata": {
        "id": "NjjZ1lu6URrb"
      },
      "execution_count": null,
      "outputs": []
    },
    {
      "cell_type": "code",
      "source": [
        "site_10_0_df, wmape_10_0_site = calculate_wmape_site(merged_10_0_df, soft_col='lead_10', hard_col='lead_0')\n",
        "global_10_0_df, wmape_10_0_global = calculate_wmape_global(merged_10_0_df, soft_col='lead_10', hard_col='lead_0')\n",
        "site_5_0_df, wmape_5_0_site = calculate_wmape_site(merged_5_0_df, soft_col='lead_5', hard_col='lead_0')\n",
        "global_5_0_df, wmape_5_0_global = calculate_wmape_global(merged_5_0_df, soft_col='lead_5', hard_col='lead_0')"
      ],
      "metadata": {
        "id": "cUgFGh2niyb9"
      },
      "execution_count": null,
      "outputs": []
    },
    {
      "cell_type": "code",
      "source": [
        "lead_days = [10, 5, 0]\n",
        "wmape_values = [wmape_10_0_site, wmape_5_0_site, 0]\n",
        "\n",
        "# Plot the data\n",
        "plt.plot(lead_days, wmape_values, linestyle='-', color='b')\n",
        "plt.xlabel('Lead Day')\n",
        "plt.ylabel('Error')\n",
        "plt.title('WMAPE Site Values for Different Lead Days')\n",
        "plt.xticks([10, 5, 0])\n",
        "plt.gca().invert_xaxis()  # Invert x-axis to have 0 at the end\n",
        "plt.show()"
      ],
      "metadata": {
        "colab": {
          "base_uri": "https://localhost:8080/",
          "height": 472
        },
        "id": "XNEEdxdwVyYH",
        "outputId": "29f0b0d7-957c-4835-ba04-dd40870540c8"
      },
      "execution_count": null,
      "outputs": [
        {
          "output_type": "display_data",
          "data": {
            "text/plain": [
              "<Figure size 640x480 with 1 Axes>"
            ],
            "image/png": "[encoded data removed]"
          },
          "metadata": {}
        }
      ]
    },
    {
      "cell_type": "code",
      "source": [],
      "metadata": {
        "id": "9Sd0VtLzZACc"
      },
      "execution_count": null,
      "outputs": []
    }
  ]
}