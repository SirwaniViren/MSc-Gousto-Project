{
 "cells": [
  {
   "cell_type": "code",
   "execution_count": 81,
   "metadata": {},
   "outputs": [],
   "source": [
    "import numpy as np\n",
    "from scipy.optimize import dual_annealing\n",
    "import pulp\n",
    "import pandas as pd\n",
    "import os\n",
    "import random\n",
    "from wmape import WMAPE\n",
    "from order_generator import OrderGenerator\n",
    "from order_merger import OrderMerger\n",
    "import math\n",
    "import matplotlib.pyplot as plt"
   ]
  },
  {
   "cell_type": "code",
   "execution_count": 82,
   "metadata": {},
   "outputs": [],
   "source": [
    "random.seed(42)"
   ]
  },
  {
   "cell_type": "code",
   "execution_count": 83,
   "metadata": {},
   "outputs": [],
   "source": [
    "def objective_function(current_allocation, orders_df, target_orders_df, initial_day, target_day):\n",
    "    # Apply the current allocation to the orders dataframe\n",
    "    orders_df['site'] = current_allocation\n",
    "\n",
    "    # Aggregate the orders for the initial and target lead days\n",
    "    aggregated_initial_df = OrderMerger.aggregate_items(orders_df, initial_day)\n",
    "    aggregated_target_df = OrderMerger.aggregate_items(target_orders_df, target_day)\n",
    "\n",
    "    # Merge the aggregated dataframes\n",
    "    merged_df = OrderMerger.merge_allocation(aggregated_initial_df, aggregated_target_df, initial_day, target_day)\n",
    "\n",
    "    # Calculate WMAPE\n",
    "    _, wmape_site = WMAPE.calculate_wmape_site(merged_df, f'lead_{target_day}', f'lead_{initial_day}')\n",
    "    return wmape_site"
   ]
  },
  {
   "cell_type": "code",
   "execution_count": 84,
   "metadata": {},
   "outputs": [],
   "source": [
    "def cooling_schedule(initial_temp, alpha, step):\n",
    "    return initial_temp * (alpha ** step)\n",
    "\n",
    "\n",
    "def generate_neighbor(current_allocation, orders_df, eligibility_dict):\n",
    "    new_allocation = current_allocation.copy()\n",
    "    max_attempts = 100  # Limit the number of attempts to find a valid swap\n",
    "\n",
    "    for _ in range(max_attempts):\n",
    "        idx1, idx2 = random.sample(range(len(new_allocation)), 2)\n",
    "\n",
    "        # Check eligibility for idx1\n",
    "        order_id1 = orders_df.iloc[idx1]['order_id']\n",
    "        items1 = orders_df[orders_df['order_id'] == order_id1]['item_id'].tolist()\n",
    "        site1 = new_allocation[idx2]  # Swap site for idx1\n",
    "\n",
    "        if all(item in eligibility_dict[site1] for item in items1):\n",
    "            # Check eligibility for idx2\n",
    "            order_id2 = orders_df.iloc[idx2]['order_id']\n",
    "            items2 = orders_df[orders_df['order_id'] == order_id2]['item_id'].tolist()\n",
    "            site2 = new_allocation[idx1]  # Swap site for idx2\n",
    "\n",
    "            if all(item in eligibility_dict[site2] for item in items2):\n",
    "                # Perform the swap if both are eligible\n",
    "                new_allocation[idx1], new_allocation[idx2] = new_allocation[idx2], new_allocation[idx1]\n",
    "                break\n",
    "\n",
    "    return new_allocation\n",
    "\n",
    "\n",
    "\n",
    "def acceptance_probability(current_energy, new_energy, temperature):\n",
    "    if new_energy < current_energy:\n",
    "        return 1.0\n",
    "    else:\n",
    "        return math.exp((current_energy - new_energy) / temperature)\n",
    "\n",
    "\n",
    "def simulated_annealing(orders_df, target_orders_df, eligibility_dict, initial_day, target_day, initial_temp, final_temp, alpha, max_iter):\n",
    "    current_allocation = orders_df['site'].values\n",
    "    best_allocation = current_allocation.copy()\n",
    "    current_energy = objective_function(current_allocation, orders_df, target_orders_df, initial_day, target_day)\n",
    "    best_energy = current_energy\n",
    "\n",
    "    temp = initial_temp\n",
    "    step = 0\n",
    "\n",
    "    while temp > final_temp and step < max_iter:\n",
    "        new_allocation = generate_neighbor(current_allocation, orders_df, eligibility_dict)\n",
    "        new_energy = objective_function(new_allocation, orders_df, target_orders_df, initial_day, target_day)\n",
    "\n",
    "        if acceptance_probability(current_energy, new_energy, temp) > random.random():\n",
    "            current_allocation = new_allocation\n",
    "            current_energy = new_energy\n",
    "\n",
    "            if current_energy < best_energy:\n",
    "                best_allocation = current_allocation\n",
    "                best_energy = current_energy\n",
    "\n",
    "        temp = cooling_schedule(initial_temp, alpha, step)\n",
    "        step += 1\n",
    "\n",
    "    return best_allocation, best_energy"
   ]
  },
  {
   "cell_type": "code",
   "execution_count": 85,
   "metadata": {},
   "outputs": [],
   "source": [
    "allocation_dir = 'allocations'\n",
    "\n",
    "allocation_0 = pd.read_csv(f'{allocation_dir}/allocation_lead_day_0.csv')\n",
    "allocation_5 = pd.read_csv(f'{allocation_dir}/allocation_lead_day_5.csv')\n",
    "allocation_10 = pd.read_csv(f'{allocation_dir}/allocation_lead_day_10.csv')"
   ]
  },
  {
   "cell_type": "code",
   "execution_count": 86,
   "metadata": {},
   "outputs": [],
   "source": [
    "allocation_dir = 'allocations'\n",
    "merged_dir = 'merged'\n",
    "sa_allocation_dir = 'sa_allocations'\n",
    "sa_merged_dir = 'sa_merged'\n",
    "\n",
    "# Create the merged directory if it doesn't exist\n",
    "os.makedirs(sa_allocation_dir, exist_ok=True)\n",
    "os.makedirs(sa_merged_dir, exist_ok=True)"
   ]
  },
  {
   "cell_type": "code",
   "execution_count": 103,
   "metadata": {},
   "outputs": [],
   "source": [
    "def perform_simulated_annealing(lead_days, initial_temp, final_temp, alpha, max_iter, eligibility_dict):\n",
    "    # Load the initial allocation dataframe for the first lead day\n",
    "    previous_df = pd.read_csv(f'{allocation_dir}/allocation_lead_day_{lead_days[0]}.csv')\n",
    "    \n",
    "    # Ensure the first lead day stays unmodified\n",
    "    previous_df.to_csv(f'{sa_allocation_dir}/sa_allocation_lead_day_{lead_days[0]}.csv', index=False)\n",
    "    \n",
    "    for i in range(1, len(lead_days)):\n",
    "        current_day = lead_days[i]\n",
    "        previous_day = lead_days[i-1]\n",
    "        \n",
    "        current_df = pd.read_csv(f'{allocation_dir}/allocation_lead_day_{current_day}.csv')\n",
    "        current_allocation = current_df['site'].values\n",
    "        current_energy = objective_function(current_allocation, current_df, previous_df, current_day, previous_day)\n",
    "        best_allocation, best_energy = simulated_annealing(current_df.copy(), previous_df.copy(), eligibility_dict, current_day, previous_day, initial_temp, final_temp, alpha, max_iter)\n",
    "        # Update the allocation for the current day with the best found allocation\n",
    "        current_df['site'] = best_allocation\n",
    "        \n",
    "        # Save the updated dataframe for the current lead day\n",
    "        current_df.to_csv(f'{sa_allocation_dir}/sa_allocation_lead_day_{current_day}.csv', index=False)\n",
    "        \n",
    "        # Set the current dataframe as the previous dataframe for the next iteration\n",
    "        previous_df = current_df.copy()\n",
    "        "
   ]
  },
  {
   "cell_type": "code",
   "execution_count": 104,
   "metadata": {},
   "outputs": [],
   "source": [
    "def calculate_wmape_for_all_days(lead_days):\n",
    "    wmape_site_values = []\n",
    "    wmape_global_values = []\n",
    "\n",
    "    final_day = lead_days[-1]\n",
    "    final_day_df = pd.read_csv(f'{sa_allocation_dir}/sa_allocation_lead_day_{final_day}.csv')\n",
    "    aggregated_final_day = OrderMerger.aggregate_items(final_day_df, final_day)\n",
    "    \n",
    "    for day in lead_days[:-1]:\n",
    "        current_df = pd.read_csv(f'{sa_allocation_dir}/sa_allocation_lead_day_{day}.csv')\n",
    "        aggregated_current_day = OrderMerger.aggregate_items(current_df, day)\n",
    "        \n",
    "        merged_df = OrderMerger.merge_allocation(aggregated_current_day, aggregated_final_day, day, final_day)\n",
    "        \n",
    "        site_df, wmape_site = WMAPE.calculate_wmape_site(merged_df, f'lead_{day}', f'lead_{final_day}')\n",
    "        global_df, wmape_global = WMAPE.calculate_wmape_global(merged_df, f'lead_{day}', f'lead_{final_day}')\n",
    "        \n",
    "        wmape_site_values.append(wmape_site)\n",
    "        wmape_global_values.append(wmape_global)\n",
    "        \n",
    "        # Save the merged dataframe\n",
    "        merged_df.to_csv(f'{sa_merged_dir}/sa_merged_lead_day_{day}_to_{final_day}.csv', index=False)\n",
    "    \n",
    "    # Add 0 for lead day 0\n",
    "    wmape_site_values.append(0)\n",
    "    wmape_global_values.append(0)\n",
    "    \n",
    "    return wmape_site_values, wmape_global_values\n"
   ]
  },
  {
   "cell_type": "code",
   "execution_count": 105,
   "metadata": {},
   "outputs": [],
   "source": [
    "def plot_wmape(lead_days, wmape_site_values, wmape_global_values):\n",
    "    # Plot the data\n",
    "    fig, ax = plt.subplots(figsize=(10, 6))\n",
    "\n",
    "    ax.plot(lead_days, wmape_site_values, linestyle='-', color='b', label='WMAPE Site')\n",
    "    ax.plot(lead_days, wmape_global_values, linestyle='-', color='r', label='WMAPE Global')\n",
    "\n",
    "    # Add labels and title\n",
    "    ax.set_xlabel('Lead Day')\n",
    "    ax.set_ylabel('Error')\n",
    "    ax.set_title('WMAPE Values for Different Lead Days')\n",
    "    ax.set_xticks(lead_days)\n",
    "    ax.legend()\n",
    "\n",
    "    # Invert x-axis to have 0 at the end\n",
    "    ax.invert_xaxis()\n",
    "\n",
    "    plt.show()\n"
   ]
  },
  {
   "cell_type": "code",
   "execution_count": 106,
   "metadata": {},
   "outputs": [
    {
     "name": "stdout",
     "output_type": "stream",
     "text": [
      "0.4243035190615836\n",
      "0.42320381231671556\n",
      "0.445125348189415\n",
      "0.4447539461467038\n",
      "0.4282055659894144\n",
      "0.42718115075977464\n",
      "0.3958584987057808\n",
      "0.3896462467644521\n",
      "0.4476102941176471\n",
      "0.446875\n",
      "0.4398793818318884\n",
      "0.4361100640784018\n",
      "0.42708526843767414\n",
      "0.4196544677689021\n",
      "0.4083796940194715\n",
      "0.4083796940194715\n",
      "0.42404036763380787\n",
      "0.4200756893133898\n",
      "0.445328785294675\n",
      "0.4449497820731476\n",
      "0.4461100569259962\n",
      "0.44003795066413665\n",
      "0.43902844784561634\n",
      "0.43703210780236235\n",
      "0.4032991078942939\n",
      "0.40094260225551254\n",
      "0.4050370881490426\n",
      "0.4050370881490426\n",
      "0.40258175559380377\n",
      "0.3991394148020654\n",
      "0.48193229364777485\n",
      "0.4785089387599848\n",
      "0.4495103005741304\n",
      "0.44511989192840257\n",
      "0.5071523936677474\n",
      "0.5044821666984551\n"
     ]
    }
   ],
   "source": [
    "\n",
    "lead_days = list(range(18, -1, -1))  # Define the lead days from 18 to 0\n",
    "initial_temp = 5230\n",
    "final_temp = 1\n",
    "alpha = 0.95\n",
    "max_iter = 1e7\n",
    "\n",
    "eligibility_dict = OrderGenerator.load_eligibility_dict('eligibility_dict.json')\n",
    "\n",
    "# Perform simulated annealing for consecutive lead days\n",
    "perform_simulated_annealing(lead_days, initial_temp, final_temp, alpha, max_iter, eligibility_dict)\n"
   ]
  },
  {
   "cell_type": "code",
   "execution_count": 94,
   "metadata": {},
   "outputs": [
    {
     "data": {
      "image/png": "[encoded data removed]",
      "text/plain": [
       "<Figure size 1000x600 with 1 Axes>"
      ]
     },
     "metadata": {},
     "output_type": "display_data"
    }
   ],
   "source": [
    "# Calculate WMAPE for all days\n",
    "wmape_site_values, wmape_global_values = calculate_wmape_for_all_days(lead_days)\n",
    "\n",
    "# Plot the WMAPE values\n",
    "plot_wmape(lead_days, wmape_site_values, wmape_global_values)"
   ]
  },
  {
   "cell_type": "code",
   "execution_count": null,
   "metadata": {},
   "outputs": [],
   "source": []
  }
 ],
 "metadata": {
  "kernelspec": {
   "display_name": "base",
   "language": "python",
   "name": "python3"
  },
  "language_info": {
   "codemirror_mode": {
    "name": "ipython",
    "version": 3
   },
   "file_extension": ".py",
   "mimetype": "text/x-python",
   "name": "python",
   "nbconvert_exporter": "python",
   "pygments_lexer": "ipython3",
   "version": "3.12.2"
  }
 },
 "nbformat": 4,
 "nbformat_minor": 2
}
