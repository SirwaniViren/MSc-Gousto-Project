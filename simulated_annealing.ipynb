{
 "cells": [
  {
   "cell_type": "code",
   "execution_count": 35,
   "metadata": {},
   "outputs": [],
   "source": [
    "import numpy as np\n",
    "from scipy.optimize import dual_annealing\n",
    "import pulp\n",
    "import pandas as pd\n",
    "import os\n",
    "import random\n",
    "from wmape import WMAPE\n",
    "from order_generator import OrderGenerator\n",
    "from order_merger import OrderMerger\n",
    "import math\n",
    "import matplotlib.pyplot as plt"
   ]
  },
  {
   "cell_type": "code",
   "execution_count": 36,
   "metadata": {},
   "outputs": [],
   "source": [
    "random.seed(42)"
   ]
  },
  {
   "cell_type": "code",
   "execution_count": 3,
   "metadata": {},
   "outputs": [
    {
     "name": "stdout",
     "output_type": "stream",
     "text": [
      "wmape_global: 0.21075893420886477\n",
      "wmape_site: 0.42063391842404346\n"
     ]
    }
   ],
   "source": [
    "# import allocations for lead day 5 and lead day 0 and calculate wmape values\n",
    "\n",
    "allocation_dir = 'allocations'\n",
    "merged_dir = 'merged'\n",
    "lead_day = 5\n",
    "soft_col = f'lead_{lead_day}'\n",
    "hard_col = 'lead_0'\n",
    "\n",
    "allocation_0 = pd.read_csv(f'{allocation_dir}/allocation_lead_day_0.csv')\n",
    "allocation_5 = pd.read_csv(f'{allocation_dir}/allocation_lead_day_5.csv')\n",
    "\n",
    "merged_5_0 = pd.read_csv(f'{merged_dir}/merged_lead_day_{lead_day}_0.csv')\n",
    "\n",
    "_, wmape_site = WMAPE.calculate_wmape_site(merged_5_0, soft_col, hard_col)\n",
    "_, wmape_global = WMAPE.calculate_wmape_global(merged_5_0, soft_col, hard_col)\n",
    "\n",
    "print(f'wmape_global: {wmape_global}')\n",
    "print(f'wmape_site: {wmape_site}')"
   ]
  },
  {
   "cell_type": "code",
   "execution_count": 27,
   "metadata": {},
   "outputs": [],
   "source": [
    "def objective_function(current_allocation, orders_df, target_orders_df, initial_day, target_day):\n",
    "    # Apply the current allocation to the orders dataframe\n",
    "    orders_df['site'] = current_allocation\n",
    "\n",
    "    # Aggregate the orders for the initial and target lead days\n",
    "    aggregated_initial_df = OrderMerger.aggregate_items(orders_df, initial_day)\n",
    "    aggregated_target_df = OrderMerger.aggregate_items(target_orders_df, target_day)\n",
    "\n",
    "    # Merge the aggregated dataframes\n",
    "    merged_df = OrderMerger.merge_allocation(aggregated_initial_df, aggregated_target_df, initial_day, target_day)\n",
    "\n",
    "    # Calculate WMAPE\n",
    "    _, wmape_site = WMAPE.calculate_wmape_site(merged_df, f'lead_{initial_day}', f'lead_{target_day}')\n",
    "    return wmape_site\n"
   ]
  },
  {
   "cell_type": "code",
   "execution_count": 28,
   "metadata": {},
   "outputs": [],
   "source": [
    "def cooling_schedule(initial_temp, alpha, step):\n",
    "    return initial_temp * (alpha ** step)\n",
    "\n",
    "\n",
    "def generate_neighbor(current_allocation, orders_df, eligibility_dict):\n",
    "    new_allocation = current_allocation.copy()\n",
    "    max_attempts = 100  # Limit the number of attempts to find a valid swap\n",
    "\n",
    "    for _ in range(max_attempts):\n",
    "        idx1, idx2 = random.sample(range(len(new_allocation)), 2)\n",
    "\n",
    "        # Check eligibility for idx1\n",
    "        order_id1 = orders_df.iloc[idx1]['order_id']\n",
    "        items1 = orders_df[orders_df['order_id'] == order_id1]['item_id'].tolist()\n",
    "        site1 = new_allocation[idx2]  # Swap site for idx1\n",
    "\n",
    "        if all(item in eligibility_dict[site1] for item in items1):\n",
    "            # Check eligibility for idx2\n",
    "            order_id2 = orders_df.iloc[idx2]['order_id']\n",
    "            items2 = orders_df[orders_df['order_id'] == order_id2]['item_id'].tolist()\n",
    "            site2 = new_allocation[idx1]  # Swap site for idx2\n",
    "\n",
    "            if all(item in eligibility_dict[site2] for item in items2):\n",
    "                # Perform the swap if both are eligible\n",
    "                new_allocation[idx1], new_allocation[idx2] = new_allocation[idx2], new_allocation[idx1]\n",
    "                break\n",
    "\n",
    "    return new_allocation\n",
    "\n",
    "\n",
    "\n",
    "def acceptance_probability(current_energy, new_energy, temperature):\n",
    "    if new_energy < current_energy:\n",
    "        return 1.0\n",
    "    else:\n",
    "        return math.exp((current_energy - new_energy) / temperature)\n",
    "\n",
    "\n",
    "def simulated_annealing(orders_df, target_orders_df, eligibility_dict, initial_day, target_day, initial_temp, final_temp, alpha, max_iter):\n",
    "    current_allocation = orders_df['site'].values\n",
    "    best_allocation = current_allocation.copy()\n",
    "    current_energy = objective_function(current_allocation, orders_df, target_orders_df, initial_day, target_day)\n",
    "    best_energy = current_energy\n",
    "\n",
    "    temp = initial_temp\n",
    "    step = 0\n",
    "\n",
    "    while temp > final_temp and step < max_iter:\n",
    "        new_allocation = generate_neighbor(current_allocation, orders_df, eligibility_dict)\n",
    "        new_energy = objective_function(new_allocation, orders_df, target_orders_df, initial_day, target_day)\n",
    "\n",
    "        if acceptance_probability(current_energy, new_energy, temp) > random.random():\n",
    "            current_allocation = new_allocation\n",
    "            current_energy = new_energy\n",
    "\n",
    "            if current_energy < best_energy:\n",
    "                best_allocation = current_allocation\n",
    "                best_energy = current_energy\n",
    "\n",
    "        temp = cooling_schedule(initial_temp, alpha, step)\n",
    "        step += 1\n",
    "\n",
    "    return best_allocation, best_energy"
   ]
  },
  {
   "cell_type": "code",
   "execution_count": 31,
   "metadata": {},
   "outputs": [
    {
     "name": "stdout",
     "output_type": "stream",
     "text": [
      "Best WMAPE: 0.41937113271877763\n",
      "Best Allocation: ['F20' 'F20' 'F20' ... 'F20' 'F20' 'F20']\n"
     ]
    }
   ],
   "source": [
    "# Define the parameters for simulated annealing\n",
    "initial_temp = 5000\n",
    "final_temp = 1\n",
    "alpha = 0.95\n",
    "max_iter = 1000000000\n",
    "\n",
    "eligibility_dict = OrderGenerator.load_eligibility_dict('eligibility_dict.json')\n",
    "\n",
    "# Define the lead days for initial and target allocations\n",
    "initial_day = 0\n",
    "target_day = 5\n",
    "\n",
    "# Run the simulated annealing optimization\n",
    "best_allocation, best_energy = simulated_annealing(allocation_0.copy(), allocation_5.copy(), eligibility_dict, initial_day, target_day, initial_temp, final_temp, alpha, max_iter)\n",
    "\n",
    "new_allocation = allocation_0.copy()\n",
    "# Apply the best allocation to the orders dataframe\n",
    "new_allocation['site'] = best_allocation\n",
    "\n",
    "print(\"Best WMAPE:\", best_energy)\n",
    "print(\"Best Allocation:\", best_allocation)"
   ]
  },
  {
   "cell_type": "code",
   "execution_count": 37,
   "metadata": {},
   "outputs": [],
   "source": [
    "allocation_dir = 'allocations'\n",
    "\n",
    "allocation_0 = pd.read_csv(f'{allocation_dir}/allocation_lead_day_0.csv')\n",
    "allocation_5 = pd.read_csv(f'{allocation_dir}/allocation_lead_day_5.csv')\n",
    "allocation_10 = pd.read_csv(f'{allocation_dir}/allocation_lead_day_10.csv')"
   ]
  },
  {
   "cell_type": "code",
   "execution_count": 38,
   "metadata": {},
   "outputs": [
    {
     "ename": "KeyError",
     "evalue": "'lead_0'",
     "output_type": "error",
     "traceback": [
      "\u001b[0;31m---------------------------------------------------------------------------\u001b[0m",
      "\u001b[0;31mKeyError\u001b[0m                                  Traceback (most recent call last)",
      "File \u001b[0;32m~/miniconda3/lib/python3.12/site-packages/pandas/core/indexes/base.py:3805\u001b[0m, in \u001b[0;36mIndex.get_loc\u001b[0;34m(self, key)\u001b[0m\n\u001b[1;32m   3804\u001b[0m \u001b[38;5;28;01mtry\u001b[39;00m:\n\u001b[0;32m-> 3805\u001b[0m     \u001b[38;5;28;01mreturn\u001b[39;00m \u001b[38;5;28;43mself\u001b[39;49m\u001b[38;5;241;43m.\u001b[39;49m\u001b[43m_engine\u001b[49m\u001b[38;5;241;43m.\u001b[39;49m\u001b[43mget_loc\u001b[49m\u001b[43m(\u001b[49m\u001b[43mcasted_key\u001b[49m\u001b[43m)\u001b[49m\n\u001b[1;32m   3806\u001b[0m \u001b[38;5;28;01mexcept\u001b[39;00m \u001b[38;5;167;01mKeyError\u001b[39;00m \u001b[38;5;28;01mas\u001b[39;00m err:\n",
      "File \u001b[0;32mindex.pyx:167\u001b[0m, in \u001b[0;36mpandas._libs.index.IndexEngine.get_loc\u001b[0;34m()\u001b[0m\n",
      "File \u001b[0;32mindex.pyx:196\u001b[0m, in \u001b[0;36mpandas._libs.index.IndexEngine.get_loc\u001b[0;34m()\u001b[0m\n",
      "File \u001b[0;32mpandas/_libs/hashtable_class_helper.pxi:7081\u001b[0m, in \u001b[0;36mpandas._libs.hashtable.PyObjectHashTable.get_item\u001b[0;34m()\u001b[0m\n",
      "File \u001b[0;32mpandas/_libs/hashtable_class_helper.pxi:7089\u001b[0m, in \u001b[0;36mpandas._libs.hashtable.PyObjectHashTable.get_item\u001b[0;34m()\u001b[0m\n",
      "\u001b[0;31mKeyError\u001b[0m: 'lead_0'",
      "\nThe above exception was the direct cause of the following exception:\n",
      "\u001b[0;31mKeyError\u001b[0m                                  Traceback (most recent call last)",
      "Cell \u001b[0;32mIn[38], line 3\u001b[0m\n\u001b[1;32m      1\u001b[0m initial_day_10 \u001b[38;5;241m=\u001b[39m \u001b[38;5;241m10\u001b[39m\n\u001b[1;32m      2\u001b[0m target_day_5 \u001b[38;5;241m=\u001b[39m \u001b[38;5;241m5\u001b[39m\n\u001b[0;32m----> 3\u001b[0m best_allocation_5, best_energy_5 \u001b[38;5;241m=\u001b[39m \u001b[43msimulated_annealing\u001b[49m\u001b[43m(\u001b[49m\u001b[43mallocation_10\u001b[49m\u001b[38;5;241;43m.\u001b[39;49m\u001b[43mcopy\u001b[49m\u001b[43m(\u001b[49m\u001b[43m)\u001b[49m\u001b[43m,\u001b[49m\u001b[43m \u001b[49m\u001b[43mallocation_5\u001b[49m\u001b[38;5;241;43m.\u001b[39;49m\u001b[43mcopy\u001b[49m\u001b[43m(\u001b[49m\u001b[43m)\u001b[49m\u001b[43m,\u001b[49m\u001b[43m \u001b[49m\u001b[43meligibility_dict\u001b[49m\u001b[43m,\u001b[49m\u001b[43m \u001b[49m\u001b[43minitial_day_10\u001b[49m\u001b[43m,\u001b[49m\u001b[43m \u001b[49m\u001b[43mtarget_day_5\u001b[49m\u001b[43m,\u001b[49m\u001b[43m \u001b[49m\u001b[43minitial_temp\u001b[49m\u001b[43m,\u001b[49m\u001b[43m \u001b[49m\u001b[43mfinal_temp\u001b[49m\u001b[43m,\u001b[49m\u001b[43m \u001b[49m\u001b[43malpha\u001b[49m\u001b[43m,\u001b[49m\u001b[43m \u001b[49m\u001b[43mmax_iter\u001b[49m\u001b[43m)\u001b[49m\n\u001b[1;32m      5\u001b[0m \u001b[38;5;66;03m# Update the allocation for lead day 5 with the best found allocation\u001b[39;00m\n\u001b[1;32m      6\u001b[0m allocation_5[\u001b[38;5;124m'\u001b[39m\u001b[38;5;124msite\u001b[39m\u001b[38;5;124m'\u001b[39m] \u001b[38;5;241m=\u001b[39m best_allocation_5\n",
      "Cell \u001b[0;32mIn[28], line 42\u001b[0m, in \u001b[0;36msimulated_annealing\u001b[0;34m(orders_df, target_orders_df, eligibility_dict, initial_day, target_day, initial_temp, final_temp, alpha, max_iter)\u001b[0m\n\u001b[1;32m     40\u001b[0m current_allocation \u001b[38;5;241m=\u001b[39m orders_df[\u001b[38;5;124m'\u001b[39m\u001b[38;5;124msite\u001b[39m\u001b[38;5;124m'\u001b[39m]\u001b[38;5;241m.\u001b[39mvalues\n\u001b[1;32m     41\u001b[0m best_allocation \u001b[38;5;241m=\u001b[39m current_allocation\u001b[38;5;241m.\u001b[39mcopy()\n\u001b[0;32m---> 42\u001b[0m current_energy \u001b[38;5;241m=\u001b[39m \u001b[43mobjective_function\u001b[49m\u001b[43m(\u001b[49m\u001b[43mcurrent_allocation\u001b[49m\u001b[43m,\u001b[49m\u001b[43m \u001b[49m\u001b[43morders_df\u001b[49m\u001b[43m,\u001b[49m\u001b[43m \u001b[49m\u001b[43mtarget_orders_df\u001b[49m\u001b[43m,\u001b[49m\u001b[43m \u001b[49m\u001b[43minitial_day\u001b[49m\u001b[43m,\u001b[49m\u001b[43m \u001b[49m\u001b[43mtarget_day\u001b[49m\u001b[43m)\u001b[49m\n\u001b[1;32m     43\u001b[0m best_energy \u001b[38;5;241m=\u001b[39m current_energy\n\u001b[1;32m     45\u001b[0m temp \u001b[38;5;241m=\u001b[39m initial_temp\n",
      "Cell \u001b[0;32mIn[27], line 13\u001b[0m, in \u001b[0;36mobjective_function\u001b[0;34m(current_allocation, orders_df, target_orders_df, initial_day, target_day)\u001b[0m\n\u001b[1;32m     10\u001b[0m merged_df \u001b[38;5;241m=\u001b[39m OrderMerger\u001b[38;5;241m.\u001b[39mmerge_allocation(aggregated_initial_df, aggregated_target_df, initial_day, target_day)\n\u001b[1;32m     12\u001b[0m \u001b[38;5;66;03m# Calculate WMAPE\u001b[39;00m\n\u001b[0;32m---> 13\u001b[0m _, wmape_site \u001b[38;5;241m=\u001b[39m \u001b[43mWMAPE\u001b[49m\u001b[38;5;241;43m.\u001b[39;49m\u001b[43mcalculate_wmape_site\u001b[49m\u001b[43m(\u001b[49m\u001b[43mmerged_df\u001b[49m\u001b[43m,\u001b[49m\u001b[43m \u001b[49m\u001b[38;5;124;43mf\u001b[39;49m\u001b[38;5;124;43m'\u001b[39;49m\u001b[38;5;124;43mlead_\u001b[39;49m\u001b[38;5;132;43;01m{\u001b[39;49;00m\u001b[43minitial_day\u001b[49m\u001b[38;5;132;43;01m}\u001b[39;49;00m\u001b[38;5;124;43m'\u001b[39;49m\u001b[43m,\u001b[49m\u001b[43m \u001b[49m\u001b[38;5;124;43mf\u001b[39;49m\u001b[38;5;124;43m'\u001b[39;49m\u001b[38;5;124;43mlead_\u001b[39;49m\u001b[38;5;132;43;01m{\u001b[39;49;00m\u001b[43mtarget_day\u001b[49m\u001b[38;5;132;43;01m}\u001b[39;49;00m\u001b[38;5;124;43m'\u001b[39;49m\u001b[43m)\u001b[49m\n\u001b[1;32m     14\u001b[0m \u001b[38;5;28;01mreturn\u001b[39;00m wmape_site\n",
      "File \u001b[0;32m~/UNI/PG/MSc_Project/MSc-Gousto-Project/wmape.py:10\u001b[0m, in \u001b[0;36mWMAPE.calculate_wmape_site\u001b[0;34m(merged_df, soft_col, hard_col)\u001b[0m\n\u001b[1;32m      8\u001b[0m \u001b[38;5;129m@staticmethod\u001b[39m\n\u001b[1;32m      9\u001b[0m \u001b[38;5;28;01mdef\u001b[39;00m \u001b[38;5;21mcalculate_wmape_site\u001b[39m(merged_df, soft_col, hard_col):\n\u001b[0;32m---> 10\u001b[0m     total_forecast \u001b[38;5;241m=\u001b[39m \u001b[43mmerged_df\u001b[49m\u001b[43m[\u001b[49m\u001b[38;5;124;43m\"\u001b[39;49m\u001b[38;5;124;43mlead_0\u001b[39;49m\u001b[38;5;124;43m\"\u001b[39;49m\u001b[43m]\u001b[49m\u001b[38;5;241m.\u001b[39msum()\n\u001b[1;32m     11\u001b[0m     site_df \u001b[38;5;241m=\u001b[39m merged_df\u001b[38;5;241m.\u001b[39mcopy()\n\u001b[1;32m     12\u001b[0m     site_df[\u001b[38;5;124m'\u001b[39m\u001b[38;5;124mabs_error\u001b[39m\u001b[38;5;124m'\u001b[39m] \u001b[38;5;241m=\u001b[39m (site_df[soft_col] \u001b[38;5;241m-\u001b[39m site_df[hard_col])\u001b[38;5;241m.\u001b[39mabs()\n",
      "File \u001b[0;32m~/miniconda3/lib/python3.12/site-packages/pandas/core/frame.py:4090\u001b[0m, in \u001b[0;36mDataFrame.__getitem__\u001b[0;34m(self, key)\u001b[0m\n\u001b[1;32m   4088\u001b[0m \u001b[38;5;28;01mif\u001b[39;00m \u001b[38;5;28mself\u001b[39m\u001b[38;5;241m.\u001b[39mcolumns\u001b[38;5;241m.\u001b[39mnlevels \u001b[38;5;241m>\u001b[39m \u001b[38;5;241m1\u001b[39m:\n\u001b[1;32m   4089\u001b[0m     \u001b[38;5;28;01mreturn\u001b[39;00m \u001b[38;5;28mself\u001b[39m\u001b[38;5;241m.\u001b[39m_getitem_multilevel(key)\n\u001b[0;32m-> 4090\u001b[0m indexer \u001b[38;5;241m=\u001b[39m \u001b[38;5;28;43mself\u001b[39;49m\u001b[38;5;241;43m.\u001b[39;49m\u001b[43mcolumns\u001b[49m\u001b[38;5;241;43m.\u001b[39;49m\u001b[43mget_loc\u001b[49m\u001b[43m(\u001b[49m\u001b[43mkey\u001b[49m\u001b[43m)\u001b[49m\n\u001b[1;32m   4091\u001b[0m \u001b[38;5;28;01mif\u001b[39;00m is_integer(indexer):\n\u001b[1;32m   4092\u001b[0m     indexer \u001b[38;5;241m=\u001b[39m [indexer]\n",
      "File \u001b[0;32m~/miniconda3/lib/python3.12/site-packages/pandas/core/indexes/base.py:3812\u001b[0m, in \u001b[0;36mIndex.get_loc\u001b[0;34m(self, key)\u001b[0m\n\u001b[1;32m   3807\u001b[0m     \u001b[38;5;28;01mif\u001b[39;00m \u001b[38;5;28misinstance\u001b[39m(casted_key, \u001b[38;5;28mslice\u001b[39m) \u001b[38;5;129;01mor\u001b[39;00m (\n\u001b[1;32m   3808\u001b[0m         \u001b[38;5;28misinstance\u001b[39m(casted_key, abc\u001b[38;5;241m.\u001b[39mIterable)\n\u001b[1;32m   3809\u001b[0m         \u001b[38;5;129;01mand\u001b[39;00m \u001b[38;5;28many\u001b[39m(\u001b[38;5;28misinstance\u001b[39m(x, \u001b[38;5;28mslice\u001b[39m) \u001b[38;5;28;01mfor\u001b[39;00m x \u001b[38;5;129;01min\u001b[39;00m casted_key)\n\u001b[1;32m   3810\u001b[0m     ):\n\u001b[1;32m   3811\u001b[0m         \u001b[38;5;28;01mraise\u001b[39;00m InvalidIndexError(key)\n\u001b[0;32m-> 3812\u001b[0m     \u001b[38;5;28;01mraise\u001b[39;00m \u001b[38;5;167;01mKeyError\u001b[39;00m(key) \u001b[38;5;28;01mfrom\u001b[39;00m \u001b[38;5;21;01merr\u001b[39;00m\n\u001b[1;32m   3813\u001b[0m \u001b[38;5;28;01mexcept\u001b[39;00m \u001b[38;5;167;01mTypeError\u001b[39;00m:\n\u001b[1;32m   3814\u001b[0m     \u001b[38;5;66;03m# If we have a listlike key, _check_indexing_error will raise\u001b[39;00m\n\u001b[1;32m   3815\u001b[0m     \u001b[38;5;66;03m#  InvalidIndexError. Otherwise we fall through and re-raise\u001b[39;00m\n\u001b[1;32m   3816\u001b[0m     \u001b[38;5;66;03m#  the TypeError.\u001b[39;00m\n\u001b[1;32m   3817\u001b[0m     \u001b[38;5;28mself\u001b[39m\u001b[38;5;241m.\u001b[39m_check_indexing_error(key)\n",
      "\u001b[0;31mKeyError\u001b[0m: 'lead_0'"
     ]
    }
   ],
   "source": [
    "# Define the parameters for simulated annealing\n",
    "initial_temp = 5000\n",
    "final_temp = 1\n",
    "alpha = 0.95\n",
    "max_iter = 1000000000\n",
    "\n",
    "eligibility_dict = OrderGenerator.load_eligibility_dict('eligibility_dict.json')\n",
    "\n",
    "initial_day_10 = 10\n",
    "target_day_5 = 5\n",
    "best_allocation_5, best_energy_5 = simulated_annealing(allocation_10.copy(), allocation_5.copy(), eligibility_dict, initial_day_10, target_day_5, initial_temp, final_temp, alpha, max_iter)\n",
    "\n",
    "# Update the allocation for lead day 5 with the best found allocation\n",
    "allocation_5['site'] = best_allocation_5\n",
    "\n",
    "\n",
    "# Perform simulated annealing between lead day 5 and lead day 0\n",
    "initial_day_5 = 5\n",
    "target_day_0 = 0\n",
    "best_allocation_0, best_energy_0 = simulated_annealing(allocation_5.copy(), allocation_0.copy(), eligibility_dict, initial_day_5, target_day_0, initial_temp, final_temp, alpha, max_iter)\n",
    "\n",
    "# Update the allocation for lead day 0 with the best found allocation\n",
    "allocation_0['site'] = best_allocation_0\n"
   ]
  },
  {
   "cell_type": "code",
   "execution_count": null,
   "metadata": {},
   "outputs": [],
   "source": [
    "# Aggregate and merge the updated allocation dataframes with the original lead day 0 allocation\n",
    "aggregated_10 = OrderMerger.aggregate_items(allocation_10, 10)\n",
    "aggregated_5 = OrderMerger.aggregate_items(allocation_5, 5)\n",
    "aggregated_0 = OrderMerger.aggregate_items(allocation_0, 0)\n",
    "\n",
    "merged_10_0 = OrderMerger.merge_allocation(aggregated_10, aggregated_0, 10, 0)\n",
    "merged_5_0 = OrderMerger.merge_allocation(aggregated_5, aggregated_0, 5, 0)\n",
    "\n",
    "# Calculate WMAPE site and global for each merged dataframe\n",
    "site_10_0_df, wmape_10_0_site = WMAPE.calculate_wmape_site(merged_10_0, 'lead_10', 'lead_0')\n",
    "global_10_0_df, wmape_10_0_global = WMAPE.calculate_wmape_global(merged_10_0, 'lead_10', 'lead_0')\n",
    "\n",
    "site_5_0_df, wmape_5_0_site = WMAPE.calculate_wmape_site(merged_5_0, 'lead_5', 'lead_0')\n",
    "global_5_0_df, wmape_5_0_global = WMAPE.calculate_wmape_global(merged_5_0, 'lead_5', 'lead_0')\n"
   ]
  },
  {
   "cell_type": "code",
   "execution_count": null,
   "metadata": {},
   "outputs": [],
   "source": [
    "# Data for plotting\n",
    "lead_days = [10, 5, 0]\n",
    "wmape_site_values = [wmape_10_0_site, wmape_5_0_site, 0]\n",
    "wmape_global_values = [wmape_10_0_global, wmape_5_0_global, 0]\n",
    "\n",
    "# Plot the data\n",
    "fig, ax = plt.subplots(figsize=(10, 6))\n",
    "\n",
    "ax.plot(lead_days, wmape_site_values, linestyle='-', color='b', label='WMAPE Site')\n",
    "ax.plot(lead_days, wmape_global_values, linestyle='-', color='r', label='WMAPE Global')\n",
    "\n",
    "# Add labels and title\n",
    "ax.set_xlabel('Lead Day')\n",
    "ax.set_ylabel('Error')\n",
    "ax.set_title('WMAPE Values for Different Lead Days')\n",
    "ax.set_xticks([10, 5, 0])\n",
    "ax.legend()\n",
    "\n",
    "# Invert x-axis to have 0 at the end\n",
    "ax.invert_xaxis()\n",
    "\n",
    "plt.show()\n"
   ]
  }
 ],
 "metadata": {
  "kernelspec": {
   "display_name": "base",
   "language": "python",
   "name": "python3"
  },
  "language_info": {
   "codemirror_mode": {
    "name": "ipython",
    "version": 3
   },
   "file_extension": ".py",
   "mimetype": "text/x-python",
   "name": "python",
   "nbconvert_exporter": "python",
   "pygments_lexer": "ipython3",
   "version": "3.12.2"
  }
 },
 "nbformat": 4,
 "nbformat_minor": 2
}
