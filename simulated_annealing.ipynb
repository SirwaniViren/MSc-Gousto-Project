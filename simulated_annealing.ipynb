{
 "cells": [
  {
   "cell_type": "code",
   "execution_count": 98,
   "metadata": {},
   "outputs": [],
   "source": [
    "import numpy as np\n",
    "from scipy.optimize import dual_annealing\n",
    "import pulp\n",
    "import pandas as pd\n",
    "import os\n",
    "import random\n",
    "from wmape import WMAPE\n",
    "from order_generator import OrderGenerator\n",
    "from order_merger import OrderMerger\n",
    "import math"
   ]
  },
  {
   "cell_type": "code",
   "execution_count": 99,
   "metadata": {},
   "outputs": [],
   "source": [
    "random.seed(42)"
   ]
  },
  {
   "cell_type": "code",
   "execution_count": 101,
   "metadata": {},
   "outputs": [
    {
     "name": "stdout",
     "output_type": "stream",
     "text": [
      "wmape_global: 0.21075893420886477\n",
      "wmape_site: 0.42063391842404346\n"
     ]
    }
   ],
   "source": [
    "# import allocations for lead day 5 and lead day 0 and calculate wmape values\n",
    "\n",
    "allocation_dir = 'allocations'\n",
    "merged_dir = 'merged'\n",
    "lead_day = 5\n",
    "soft_col = f'lead_{lead_day}'\n",
    "hard_col = 'lead_0'\n",
    "\n",
    "allocation_0 = pd.read_csv(f'{allocation_dir}/allocation_lead_day_0.csv')\n",
    "allocation_5 = pd.read_csv(f'{allocation_dir}/allocation_lead_day_5.csv')\n",
    "\n",
    "merged_5_0 = pd.read_csv(f'{merged_dir}/merged_lead_day_{lead_day}_0.csv')\n",
    "\n",
    "_, wmape_site = WMAPE.calculate_wmape_site(merged_5_0, soft_col, hard_col)\n",
    "_, wmape_global = WMAPE.calculate_wmape_global(merged_5_0, soft_col, hard_col)\n",
    "\n",
    "print(f'wmape_global: {wmape_global}')\n",
    "print(f'wmape_site: {wmape_site}')"
   ]
  },
  {
   "cell_type": "code",
   "execution_count": 102,
   "metadata": {},
   "outputs": [],
   "source": [
    "def objective_function(current_allocation, orders_df, actual_orders_df):\n",
    "    # Apply the current allocation to the orders dataframe\n",
    "    orders_df['site'] = current_allocation\n",
    "\n",
    "    # Aggregate the orders for lead day 5\n",
    "    aggregated_5_df = OrderMerger.aggregate_items(orders_df, 5)\n",
    "    aggregated_0_df = OrderMerger.aggregate_items(actual_orders_df, 0)\n",
    "\n",
    "    # Merge the aggregated dataframes\n",
    "    merged_df = OrderMerger.merge_allocation(aggregated_5_df, aggregated_0_df, 5, 0)\n",
    "\n",
    "    # Calculate WMAPE\n",
    "    _, wmape_site = WMAPE.calculate_wmape_site(merged_df, 'lead_5', 'lead_0')\n",
    "    return wmape_site"
   ]
  },
  {
   "cell_type": "code",
   "execution_count": 103,
   "metadata": {},
   "outputs": [],
   "source": [
    "def cooling_schedule(initial_temp, alpha, step):\n",
    "    return initial_temp * (alpha ** step)\n",
    "\n",
    "\n",
    "def generate_neighbor(current_allocation):\n",
    "    new_allocation = current_allocation.copy()\n",
    "    \n",
    "    # Randomly swap two sites in the allocation\n",
    "    idx1, idx2 = random.sample(range(len(new_allocation)), 2)\n",
    "    new_allocation[idx1], new_allocation[idx2] = new_allocation[idx2], new_allocation[idx1]\n",
    "    \n",
    "    return new_allocation\n",
    "\n",
    "\n",
    "def acceptance_probability(current_energy, new_energy, temperature):\n",
    "    if new_energy < current_energy:\n",
    "        return 1.0\n",
    "    else:\n",
    "        return math.exp((current_energy - new_energy) / temperature)\n",
    "\n",
    "\n",
    "def simulated_annealing(orders_df, actual_orders_df, initial_temp, final_temp, alpha, max_iter):\n",
    "    current_allocation = orders_df['site'].values\n",
    "    best_allocation = current_allocation.copy()\n",
    "    current_energy = objective_function(current_allocation, orders_df, actual_orders_df)\n",
    "    best_energy = current_energy\n",
    "\n",
    "    temp = initial_temp\n",
    "    step = 0\n",
    "\n",
    "    while temp > final_temp and step < max_iter:\n",
    "        new_allocation = generate_neighbor(current_allocation)\n",
    "        new_energy = objective_function(new_allocation, orders_df, actual_orders_df)\n",
    "\n",
    "        if acceptance_probability(current_energy, new_energy, temp) > random.random():\n",
    "            current_allocation = new_allocation\n",
    "            current_energy = new_energy\n",
    "\n",
    "            if current_energy < best_energy:\n",
    "                best_allocation = current_allocation\n",
    "                best_energy = current_energy\n",
    "\n",
    "        temp = cooling_schedule(initial_temp, alpha, step)\n",
    "        step += 1\n",
    "\n",
    "    return best_allocation, best_energy"
   ]
  },
  {
   "cell_type": "code",
   "execution_count": 114,
   "metadata": {},
   "outputs": [
    {
     "name": "stdout",
     "output_type": "stream",
     "text": [
      "Best WMAPE: 0.41861346129561816\n",
      "Best Allocation: ['F11' 'F11' 'F11' ... 'F20' 'F20' 'F20']\n"
     ]
    }
   ],
   "source": [
    "# Define the parameters for simulated annealing\n",
    "initial_temp = 5000\n",
    "final_temp = 1\n",
    "alpha = 0.95\n",
    "max_iter = 100000\n",
    "\n",
    "# Run the simulated annealing optimization\n",
    "best_allocation, best_energy = simulated_annealing(allocation_5.copy(), allocation_0.copy(), initial_temp, final_temp, alpha, max_iter)\n",
    "\n",
    "# Apply the best allocation to the orders dataframe\n",
    "new_allocation_5 = allocation_5.copy()\n",
    "new_allocation_5['site'] = best_allocation\n",
    "\n",
    "print(\"Best WMAPE:\", best_energy)\n",
    "print(\"Best Allocation:\", best_allocation)"
   ]
  },
  {
   "cell_type": "code",
   "execution_count": null,
   "metadata": {},
   "outputs": [],
   "source": []
  }
 ],
 "metadata": {
  "kernelspec": {
   "display_name": "base",
   "language": "python",
   "name": "python3"
  },
  "language_info": {
   "codemirror_mode": {
    "name": "ipython",
    "version": 3
   },
   "file_extension": ".py",
   "mimetype": "text/x-python",
   "name": "python",
   "nbconvert_exporter": "python",
   "pygments_lexer": "ipython3",
   "version": "3.12.2"
  }
 },
 "nbformat": 4,
 "nbformat_minor": 2
}
