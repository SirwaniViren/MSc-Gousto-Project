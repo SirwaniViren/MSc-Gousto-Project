{
  "nbformat": 4,
  "nbformat_minor": 0,
  "metadata": {
    "colab": {
      "provenance": [],
      "include_colab_link": true
    },
    "kernelspec": {
      "name": "python3",
      "display_name": "Python 3"
    },
    "language_info": {
      "name": "python"
    }
  },
  "cells": [
    {
      "cell_type": "markdown",
      "metadata": {
        "id": "view-in-github",
        "colab_type": "text"
      },
      "source": [
        "<a href=\"https://colab.research.google.com/github/SirwaniViren/MSc-Gousto-Project/blob/main/initial_framework_v2.ipynb\" target=\"_parent\"><img src=\"https://colab.research.google.com/assets/colab-badge.svg\" alt=\"Open In Colab\"/></a>"
      ]
    },
    {
      "cell_type": "code",
      "execution_count": 1,
      "metadata": {
        "id": "gz3YANJdc2Rs"
      },
      "outputs": [],
      "source": [
        "import math\n",
        "import numpy as np\n",
        "import pandas as pd\n",
        "import random\n",
        "from collections import defaultdict"
      ]
    },
    {
      "cell_type": "code",
      "source": [
        "random.seed(42)"
      ],
      "metadata": {
        "id": "36G4Uni8nKHA"
      },
      "execution_count": 2,
      "outputs": []
    },
    {
      "cell_type": "code",
      "source": [
        "# Dataframe of orders\n",
        "# How many recipes per box - between 1 and 5\n",
        "# lead day 5\n",
        "orders_to_recipe_ld5_df = pd.DataFrame({'order_id': [1, 1, 1, 2, 2, 3, 3, 4, 4, 5, 5],\n",
        "                                        'item_id': [10, 20, 50, 10, 30, 20, 50, 20, 30, 10, 40],\n",
        "                                        'leadday': [5, 5, 5, 5, 5, 5, 5, 5, 5, 5, 5],\n",
        "                                        'site': ['F1', 'F1', 'F1', 'F2', 'F2', 'F3', 'F3', 'F2', 'F2', 'F3', 'F3']})\n",
        "\n",
        "# lead day 0\n",
        "orders_to_recipe_ld0_df = pd.DataFrame({'order_id': [1, 1, 1, 2, 2, 3, 3, 4, 4, 5, 5],\n",
        "                                        'item_id': [10, 20, 50, 10, 30, 20, 50, 20, 30, 10, 40],\n",
        "                                        'leadday': [0, 0, 0, 0, 0, 0, 0, 0, 0, 0, 0],\n",
        "                                        'site': ['F2', 'F2', 'F2', 'F2', 'F2', 'F3', 'F3', 'F3', 'F3', 'F1', 'F1']})\n",
        "\n",
        "# Set of recipe per factory\n",
        "eligibility_id = {'F1': [10, 20, 40, 50], 'F2': [10, 20, 30, 40], 'F3': [10, 20, 30, 40, 50]}\n",
        "\n",
        "# Should be computed from a set of recipes per factory\n",
        "# Ideally, elgibility for 3 factories will go from F1: 30%, F2, 60% and F3: 100%\n",
        "# eligible boxes per factory\n",
        "orders_eligibility_df = pd.DataFrame({'order_id': [1, 2, 3, 4, 5], 'eligibility': [['F1', 'F2', 'F3'], ['F2', 'F3'], ['F3'], ['F2', 'F3'], ['F1', 'F3']]})\n",
        "\n",
        "# Caps:\n",
        "factory_caps = {'F1': 1, 'F2': 2, 'F3': np.float32('inf')}\n",
        "\n"
      ],
      "metadata": {
        "id": "de4ysDNtuahz"
      },
      "execution_count": 72,
      "outputs": []
    },
    {
      "cell_type": "code",
      "source": [
        "# Function to allocate items\n",
        "def allocate_items_greedy(orders_df, factory_caps, eligibility_id):\n",
        "  allocation = defaultdict(lambda: defaultdict(int))\n",
        "  current_order_id = None\n",
        "  current_items = []\n",
        "  current_sites = []\n",
        "\n",
        "  for row in orders_df.itertuples():\n",
        "    order_id = row.order_id\n",
        "    item_id = row.item_id\n",
        "    site = row.site\n",
        "\n",
        "    if current_order_id is None:\n",
        "        current_order_id = order_id\n",
        "\n",
        "    if order_id != current_order_id:\n",
        "        # Allocate items for the previous order\n",
        "        for s in current_sites:\n",
        "            if all(item in eligibility_id[s] for item in current_items) and factory_caps[s] > 0:\n",
        "                for item in current_items:\n",
        "                    allocation[item][s] += 1\n",
        "                factory_caps[s] -= 1\n",
        "                break\n",
        "\n",
        "        # Reset for the new order\n",
        "        current_order_id = order_id\n",
        "        current_items = []\n",
        "        current_sites = []\n",
        "\n",
        "    current_items.append(item_id)\n",
        "    current_sites.append(site)\n",
        "\n",
        "  # Allocate items for the last order\n",
        "  for s in current_sites:\n",
        "    if all(item in eligibility_id[s] for item in current_items) and factory_caps[s] > 0:\n",
        "      for item in current_items:\n",
        "        allocation[item][s] += 1\n",
        "      factory_caps[s] -= 1\n",
        "      break\n",
        "\n",
        "  return allocation\n",
        "\n",
        "\n",
        "# Allocate items for LD5\n",
        "ld5_allocation = allocate_items_greedy(orders_to_recipe_ld5_df, factory_caps.copy(), eligibility_id)\n",
        "ld0_allocation = allocate_items_greedy(orders_to_recipe_ld0_df, factory_caps.copy(), eligibility_id)"
      ],
      "metadata": {
        "id": "Yhpp4j6GRMz2"
      },
      "execution_count": 73,
      "outputs": []
    },
    {
      "cell_type": "code",
      "source": [
        "def convert_dict_df(allocation_dict, alloc_day):\n",
        "  # Convert allocation to dictionary with required format\n",
        "  allocation_result = []\n",
        "  for item_id, sites in allocation_dict.items():\n",
        "      for site, count in sites.items():\n",
        "          allocation_result.append({'item_id': item_id, 'site': site, alloc_day: count})\n",
        "\n",
        "  return pd.DataFrame(allocation_result)\n",
        "\n",
        "ld5_df = convert_dict_df(allocation_dict=ld5_allocation, alloc_day='lead_5')\n",
        "ld0_df = convert_dict_df(allocation_dict=ld0_allocation, alloc_day='lead_0')"
      ],
      "metadata": {
        "id": "LJD-g7EcYgZG"
      },
      "execution_count": 74,
      "outputs": []
    },
    {
      "cell_type": "code",
      "source": [
        "def merge_allocation(ld5_df, ld0_df):\n",
        "    # Merge the two dataframes on 'item_id' and 'site'\n",
        "    merged_df = pd.merge(ld5_df, ld0_df, on=['item_id', 'site'], how='outer')\n",
        "\n",
        "    # Fill NaN values with zeros\n",
        "    merged_df.fillna(0, inplace=True)\n",
        "\n",
        "    # Ensure the integer type for lead_5 and lead_0 columns\n",
        "    merged_df['lead_5'] = merged_df['lead_5'].astype(int)\n",
        "    merged_df['lead_0'] = merged_df['lead_0'].astype(int)\n",
        "\n",
        "    return merged_df\n",
        "\n",
        "# Merge the dataframes and calculate the absolute error\n",
        "merged_df = merge_allocation(ld5_df, ld0_df)\n",
        "total_forecast = merged_df[\"lead_5\"].sum()"
      ],
      "metadata": {
        "id": "DRKoDOeXM5Ib"
      },
      "execution_count": 75,
      "outputs": []
    },
    {
      "cell_type": "code",
      "source": [
        "print(merged_df)"
      ],
      "metadata": {
        "id": "Aywih5zbcah_",
        "outputId": "f4c198d2-3af5-4d45-caf9-52078d4bd1f5",
        "colab": {
          "base_uri": "https://localhost:8080/"
        }
      },
      "execution_count": 76,
      "outputs": [
        {
          "output_type": "stream",
          "name": "stdout",
          "text": [
            "    item_id site  lead_5  lead_0\n",
            "0        10   F1       1       1\n",
            "1        10   F2       1       1\n",
            "2        10   F3       1       0\n",
            "3        20   F1       1       0\n",
            "4        20   F3       1       2\n",
            "5        20   F2       1       0\n",
            "6        50   F1       1       0\n",
            "7        50   F3       1       1\n",
            "8        30   F2       2       1\n",
            "9        40   F3       1       0\n",
            "10       30   F3       0       1\n",
            "11       40   F1       0       1\n"
          ]
        }
      ]
    },
    {
      "cell_type": "code",
      "source": [
        "site_df = merged_df.copy()\n",
        "site_df['abs_error'] = (site_df['lead_5'] - site_df['lead_0']).abs()\n",
        "print(site_df)\n",
        "\n",
        "# Calculate WMAPE_site\n",
        "wmape_site = site_df[\"abs_error\"].sum() / total_forecast\n",
        "\n",
        "# Display WMAPE_site\n",
        "print(f\"\\nWeighted Mean Absolute Percentage Error (WMAPE) Site: {wmape_site:.4f}\")"
      ],
      "metadata": {
        "id": "1K7YI8czccdq",
        "outputId": "041d442d-c4f4-424a-dc99-e704864b660c",
        "colab": {
          "base_uri": "https://localhost:8080/"
        }
      },
      "execution_count": 85,
      "outputs": [
        {
          "output_type": "stream",
          "name": "stdout",
          "text": [
            "    item_id site  lead_5  lead_0  abs_error\n",
            "0        10   F1       1       1          0\n",
            "1        10   F2       1       1          0\n",
            "2        10   F3       1       0          1\n",
            "3        20   F1       1       0          1\n",
            "4        20   F3       1       2          1\n",
            "5        20   F2       1       0          1\n",
            "6        50   F1       1       0          1\n",
            "7        50   F3       1       1          0\n",
            "8        30   F2       2       1          1\n",
            "9        40   F3       1       0          1\n",
            "10       30   F3       0       1          1\n",
            "11       40   F1       0       1          1\n",
            "\n",
            "Weighted Mean Absolute Percentage Error (WMAPE) Site: 0.8182\n"
          ]
        }
      ]
    },
    {
      "cell_type": "code",
      "source": [
        "global_df = merged_df.copy()\n",
        "global_df = global_df.groupby('item_id').sum().reset_index()\n",
        "global_df['abs_error'] = (global_df['lead_5'] - global_df['lead_0']).abs()\n",
        "global_df = global_df.drop(['site'], axis=1)\n",
        "print(global_df)\n",
        "\n",
        "\n",
        "# Calculate WMAPE_site\n",
        "wmape_global = global_df[\"abs_error\"].sum() / total_forecast\n",
        "\n",
        "# Display WMAPE_site\n",
        "print(f\"\\nWeighted Mean Absolute Percentage Error (WMAPE) Global: {wmape_global:.4f}\")"
      ],
      "metadata": {
        "id": "OJ_Hqa_thXkd",
        "outputId": "afd592b5-eb1f-411f-aa61-61ac45edae55",
        "colab": {
          "base_uri": "https://localhost:8080/"
        }
      },
      "execution_count": 84,
      "outputs": [
        {
          "output_type": "stream",
          "name": "stdout",
          "text": [
            "   item_id  lead_5  lead_0  abs_error\n",
            "0       10       3       2          1\n",
            "1       20       3       2          1\n",
            "2       30       2       2          0\n",
            "3       40       1       1          0\n",
            "4       50       2       1          1\n",
            "\n",
            "Weighted Mean Absolute Percentage Error (WMAPE) Global: 0.2727\n"
          ]
        }
      ]
    },
    {
      "cell_type": "code",
      "source": [],
      "metadata": {
        "id": "cUgFGh2niyb9"
      },
      "execution_count": null,
      "outputs": []
    }
  ]
}