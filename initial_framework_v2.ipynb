{
  "nbformat": 4,
  "nbformat_minor": 0,
  "metadata": {
    "colab": {
      "provenance": [],
      "include_colab_link": true
    },
    "kernelspec": {
      "name": "python3",
      "display_name": "Python 3"
    },
    "language_info": {
      "name": "python"
    }
  },
  "cells": [
    {
      "cell_type": "markdown",
      "metadata": {
        "id": "view-in-github",
        "colab_type": "text"
      },
      "source": [
        "<a href=\"https://colab.research.google.com/github/SirwaniViren/MSc-Gousto-Project/blob/main/initial_framework_v2.ipynb\" target=\"_parent\"><img src=\"https://colab.research.google.com/assets/colab-badge.svg\" alt=\"Open In Colab\"/></a>"
      ]
    },
    {
      "cell_type": "code",
      "execution_count": 9,
      "metadata": {
        "id": "gz3YANJdc2Rs"
      },
      "outputs": [],
      "source": [
        "import math\n",
        "import numpy as np\n",
        "import pandas as pd\n",
        "import random\n",
        "from collections import defaultdict"
      ]
    },
    {
      "cell_type": "code",
      "source": [
        "random.seed(42)"
      ],
      "metadata": {
        "id": "36G4Uni8nKHA"
      },
      "execution_count": 10,
      "outputs": []
    },
    {
      "cell_type": "code",
      "source": [
        "# Dataframe of orders\n",
        "# How many recipes per box - between 1 and 5\n",
        "# lead day 5\n",
        "orders_to_recipe_ld5_df = pd.DataFrame({'order_id': [1, 1, 1, 2, 2, 3, 3, 4, 4],\n",
        "                                        'item_id': [10, 20, 40, 10, 30, 20, 50, 20, 40],\n",
        "                                        'leadday': [5, 5, 5, 5, 5, 5, 5, 5, 5],\n",
        "                                        'site': ['F1', 'F1', 'F1', 'F2', 'F2', 'F2', 'F2', 'F3', 'F3']})\n",
        "\n",
        "# lead day 0\n",
        "orders_to_recipe_ld0_df = pd.DataFrame({'order_id': [1, 1, 1, 2, 2, 3, 3, 4, 4],\n",
        "                                        'item_id': [10, 20, 40, 10, 30, 20, 50, 20, 30],\n",
        "                                        'leadday': [0, 0, 0, 0, 0, 0, 0, 0, 0],\n",
        "                                        'site': ['F1', 'F1', 'F1', 'F2', 'F2', 'F3', 'F3', 'F2', 'F2']})\n",
        "\n",
        "# Set of recipe per factory\n",
        "eligibility_id = {'F1': [10, 20, 40], 'F2': [10, 20, 30, 50], 'F3': [10, 20, 30, 40, 50]}\n",
        "\n",
        "# Should be computed from a set of recipes per factory\n",
        "# Ideally, elgibility for 3 factories will go from F1: 30%, F2, 60% and F3: 100%\n",
        "# eligible boxes per factory\n",
        "orders_eligibility_df = pd.DataFrame({'order_id': [1, 2, 3, 4], 'eligibility': [['F1', 'F3'], ['F2', 'F3'], ['F2', 'F3'], ['F3', 'F2']]})\n",
        "\n",
        "# Caps:\n",
        "factory_caps = {'F1': 1, 'F2': 2, 'F3': np.float32('inf')}\n",
        "\n"
      ],
      "metadata": {
        "id": "de4ysDNtuahz"
      },
      "execution_count": 11,
      "outputs": []
    },
    {
      "cell_type": "code",
      "source": [
        "# Allocate at LD5\n",
        "# Greedy algorithm\n",
        "\n",
        "\n",
        "# Allocate at LD0\n",
        "# Greedy algorithm\n",
        "\n",
        "\n",
        "# Output\n",
        "# item_id site lead_5 lead_0  abs_error\n",
        "# 1        F1     4     3\n",
        "\n",
        "# Compute Global error and site specific error\n",
        "# In theory should have wmape_global <= wmape_site\n",
        "\n",
        "# Can you minimise the site specific error within the constraints - only allowed to modified my allocation at LD0\n",
        "# swap? heuristic? meta-heuristic such GA, simulated annealing\n",
        "\n",
        "\n"
      ],
      "metadata": {
        "id": "5bt1WtgYxGyT"
      },
      "execution_count": 12,
      "outputs": []
    },
    {
      "cell_type": "code",
      "source": [
        "def allocate_orders(orders_df, eligibility_df, factory_caps, eligibility_id):\n",
        "    # Initialize the allocation dictionary with default values of 0\n",
        "    allocation = defaultdict(lambda: defaultdict(int))\n",
        "\n",
        "    # Iterate over each order in the orders DataFrame\n",
        "    for _, order in orders_df.iterrows():\n",
        "        order_id = order['order_id']\n",
        "        item_id = order['item_id']\n",
        "\n",
        "        # Get the eligible factories for the current order_id\n",
        "        eligible_factories = eligibility_df.loc[eligibility_df['order_id'] == order_id, 'eligibility'].values[0]\n",
        "\n",
        "        # Try to allocate the item to an eligible factory\n",
        "        for factory in eligible_factories:\n",
        "            if item_id in eligibility_id[factory] and factory_caps[factory] > 0:\n",
        "                allocation[item_id][factory] += 1\n",
        "                factory_caps[factory] -= 1\n",
        "                break\n",
        "\n",
        "    return allocation\n",
        "\n",
        "# Allocate orders for LD5 and LD0\n",
        "ld5_allocation = allocate_orders(orders_to_recipe_ld5_df, orders_eligibility_df, factory_caps.copy(), eligibility_id)\n",
        "ld0_allocation = allocate_orders(orders_to_recipe_ld0_df, orders_eligibility_df, factory_caps.copy(), eligibility_id)\n"
      ],
      "metadata": {
        "id": "DRKoDOeXM5Ib"
      },
      "execution_count": 17,
      "outputs": []
    },
    {
      "cell_type": "code",
      "source": [
        "# Prepare the result dataframe\n",
        "data = []\n",
        "for item_id in set(orders_to_recipe_ld5_df['item_id']).union(set(orders_to_recipe_ld0_df['item_id'])):\n",
        "    for factory in eligibility_id.keys():\n",
        "        lead_5 = ld5_allocation[item_id][factory] if item_id in ld5_allocation else 0\n",
        "        lead_0 = ld0_allocation[item_id][factory] if item_id in ld0_allocation else 0\n",
        "        abs_error = abs(lead_5 - lead_0)\n",
        "        data.append([item_id, factory, lead_5, lead_0, abs_error])\n",
        "\n",
        "result_df = pd.DataFrame(data, columns=['item_id', 'site', 'lead_5', 'lead_0', 'abs_error'])\n",
        "print(result_df)"
      ],
      "metadata": {
        "id": "9Ot2W3WaM7fd",
        "outputId": "9e8bff63-2a6e-4ae2-a2de-741f1b31b4a4",
        "colab": {
          "base_uri": "https://localhost:8080/"
        }
      },
      "execution_count": 21,
      "outputs": [
        {
          "output_type": "stream",
          "name": "stdout",
          "text": [
            "    item_id site  lead_5  lead_0  abs_error\n",
            "0        40   F1       0       0          0\n",
            "1        40   F2       0       0          0\n",
            "2        40   F3       2       1          1\n",
            "3        10   F1       1       1          0\n",
            "4        10   F2       1       1          0\n",
            "5        10   F3       0       0          0\n",
            "6        50   F1       0       0          0\n",
            "7        50   F2       0       0          0\n",
            "8        50   F3       1       1          0\n",
            "9        20   F1       0       0          0\n",
            "10       20   F2       0       0          0\n",
            "11       20   F3       3       3          0\n",
            "12       30   F1       0       0          0\n",
            "13       30   F2       1       1          0\n",
            "14       30   F3       0       1          1\n"
          ]
        }
      ]
    },
    {
      "cell_type": "code",
      "source": [
        "factory_capacities = {}\n",
        "\n",
        "# Loop through factories 1 to 99 and assign random capacities\n",
        "for i in range(1, 100):\n",
        "    factory_capacities[f\"Factory_{i}\"] = random.choice(range(1000, 10001, 1000))\n",
        "\n",
        "# Factory 100 has infinite capacity\n",
        "factory_capacities[\"Factory_100\"] = float('inf')"
      ],
      "metadata": {
        "id": "-6T5bCqFm05L"
      },
      "execution_count": null,
      "outputs": []
    },
    {
      "cell_type": "code",
      "source": [
        "print(list(factory_capacities.items())[0])"
      ],
      "metadata": {
        "id": "M88QRPZYm8-X",
        "outputId": "d8bd986a-f3d5-43c5-c459-9016ecca24e1",
        "colab": {
          "base_uri": "https://localhost:8080/"
        }
      },
      "execution_count": null,
      "outputs": [
        {
          "output_type": "stream",
          "name": "stdout",
          "text": [
            "('Factory_1', 3000)\n"
          ]
        }
      ]
    },
    {
      "cell_type": "code",
      "source": [
        "# Sample data\n",
        "recipes = [f\"Recipe_{i}\" for i in range(1, 501)]\n",
        "factories = [f\"Factory_{i}\" for i in range(1, 101)]\n",
        "\n",
        "# Create a dictionary for factories and the recipes they offer\n",
        "factory_recipes = {factory: np.random.choice(recipes, size=np.random.randint(1, 50), replace=False).tolist() for factory in factories}"
      ],
      "metadata": {
        "id": "sr5gaVJjdHrR"
      },
      "execution_count": null,
      "outputs": []
    },
    {
      "cell_type": "code",
      "source": [
        "# Initialize data for day 18\n",
        "data = []\n",
        "for factory, recs in factory_recipes.items():\n",
        "    for recipe in recs:\n",
        "        forecast = np.random.randint(1, 100)  # Simulated forecast data\n",
        "        hard_allocation = np.random.randint(1, 100)  # Simulated hard allocation data\n",
        "        abs_error = abs(forecast - hard_allocation)\n",
        "        data.append([recipe, factory, forecast, hard_allocation, abs_error])\n",
        "\n",
        "# Create DataFrame\n",
        "df = pd.DataFrame(data, columns=[\"Recipe\", \"Factory\", \"Forecast\", \"Hard_Allocation\", \"Absolute_Error\"])\n"
      ],
      "metadata": {
        "id": "W2F-zzy8ogJs"
      },
      "execution_count": null,
      "outputs": []
    },
    {
      "cell_type": "code",
      "source": [
        "# Display the DataFrame\n",
        "print(df.head())"
      ],
      "metadata": {
        "id": "MLAdE9snmtHL",
        "outputId": "a9933229-c0f1-4d60-82c5-9499f8fc8d0f",
        "colab": {
          "base_uri": "https://localhost:8080/"
        }
      },
      "execution_count": null,
      "outputs": [
        {
          "output_type": "stream",
          "name": "stdout",
          "text": [
            "       Recipe    Factory  Forecast  Hard_Allocation  Absolute_Error\n",
            "0  Recipe_490  Factory_1        62               89              27\n",
            "1   Recipe_62  Factory_1        25               23               2\n",
            "2  Recipe_253  Factory_1        61               36              25\n",
            "3   Recipe_20  Factory_1        26                5              21\n",
            "4  Recipe_384  Factory_1        71               32              39\n"
          ]
        }
      ]
    },
    {
      "cell_type": "code",
      "source": [
        "# Calculate WMAPE\n",
        "total_forecast = df[\"Forecast\"].sum()\n",
        "wmape = df[\"Absolute_Error\"].sum() / total_forecast\n",
        "\n",
        "# Display WMAPE\n",
        "print(f\"Weighted Mean Absolute Percentage Error (WMAPE): {wmape:.4f}\")"
      ],
      "metadata": {
        "id": "A1hUSrSungnB",
        "outputId": "aedf7795-460a-43f9-a8bf-43093bf6d26d",
        "colab": {
          "base_uri": "https://localhost:8080/"
        }
      },
      "execution_count": null,
      "outputs": [
        {
          "output_type": "stream",
          "name": "stdout",
          "text": [
            "Weighted Mean Absolute Percentage Error (WMAPE): 0.6561\n"
          ]
        }
      ]
    }
  ]
}