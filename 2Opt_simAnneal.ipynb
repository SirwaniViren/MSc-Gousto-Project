{
 "cells": [
  {
   "cell_type": "code",
   "execution_count": 1,
   "metadata": {},
   "outputs": [],
   "source": [
    "import numpy as np\n",
    "from scipy.optimize import dual_annealing\n",
    "import pulp\n",
    "import pandas as pd\n",
    "import os\n",
    "import random\n",
    "from wmape import WMAPE\n",
    "from order_generator import OrderGenerator\n",
    "from order_merger import OrderMerger\n",
    "import math"
   ]
  },
  {
   "cell_type": "code",
   "execution_count": 2,
   "metadata": {},
   "outputs": [],
   "source": [
    "random.seed(42)"
   ]
  },
  {
   "cell_type": "code",
   "execution_count": 4,
   "metadata": {},
   "outputs": [
    {
     "name": "stdout",
     "output_type": "stream",
     "text": [
      "wmape_global: 0.21075893420886477\n",
      "wmape_site: 0.42063391842404346\n"
     ]
    }
   ],
   "source": [
    "# import allocations for lead day 5 and lead day 0 and calculate wmape values\n",
    "\n",
    "allocation_dir = 'allocations'\n",
    "merged_dir = 'merged'\n",
    "lead_day = 5\n",
    "soft_col = f'lead_{lead_day}'\n",
    "hard_col = 'lead_0'\n",
    "\n",
    "allocation_0 = pd.read_csv(f'{allocation_dir}/allocation_lead_day_0.csv')\n",
    "allocation_5 = pd.read_csv(f'{allocation_dir}/allocation_lead_day_5.csv')\n",
    "\n",
    "merged_5_0 = pd.read_csv(f'{merged_dir}/merged_lead_day_{lead_day}_0.csv')\n",
    "\n",
    "_, wmape_site = WMAPE.calculate_wmape_site(merged_5_0, soft_col, hard_col)\n",
    "_, wmape_global = WMAPE.calculate_wmape_global(merged_5_0, soft_col, hard_col)\n",
    "\n",
    "print(f'wmape_global: {wmape_global}')\n",
    "print(f'wmape_site: {wmape_site}')"
   ]
  },
  {
   "cell_type": "code",
   "execution_count": 5,
   "metadata": {},
   "outputs": [],
   "source": [
    "def objective_function(current_allocation, orders_df, actual_orders_df):\n",
    "    # Apply the current allocation to the orders dataframe\n",
    "    orders_df['site'] = current_allocation\n",
    "\n",
    "    # Aggregate the orders for lead day 5\n",
    "    aggregated_5_df = OrderMerger.aggregate_items(orders_df, 5)\n",
    "    aggregated_0_df = OrderMerger.aggregate_items(actual_orders_df, 0)\n",
    "\n",
    "    # Merge the aggregated dataframes\n",
    "    merged_df = OrderMerger.merge_allocation(aggregated_5_df, aggregated_0_df, 5, 0)\n",
    "\n",
    "    # Calculate WMAPE\n",
    "    _, wmape_site = WMAPE.calculate_wmape_site(merged_df, 'lead_5', 'lead_0')\n",
    "    return wmape_site"
   ]
  },
  {
   "cell_type": "code",
   "execution_count": null,
   "metadata": {},
   "outputs": [],
   "source": []
  }
 ],
 "metadata": {
  "kernelspec": {
   "display_name": "base",
   "language": "python",
   "name": "python3"
  },
  "language_info": {
   "codemirror_mode": {
    "name": "ipython",
    "version": 3
   },
   "file_extension": ".py",
   "mimetype": "text/x-python",
   "name": "python",
   "nbconvert_exporter": "python",
   "pygments_lexer": "ipython3",
   "version": "3.12.2"
  }
 },
 "nbformat": 4,
 "nbformat_minor": 2
}
