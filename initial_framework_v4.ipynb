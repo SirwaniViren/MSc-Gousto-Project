{
  "nbformat": 4,
  "nbformat_minor": 0,
  "metadata": {
    "colab": {
      "provenance": [],
      "include_colab_link": true
    },
    "kernelspec": {
      "name": "python3",
      "display_name": "Python 3"
    },
    "language_info": {
      "name": "python"
    }
  },
  "cells": [
    {
      "cell_type": "markdown",
      "metadata": {
        "id": "view-in-github",
        "colab_type": "text"
      },
      "source": [
        "<a href=\"https://colab.research.google.com/github/SirwaniViren/MSc-Gousto-Project/blob/main/initial_framework_v4.ipynb\" target=\"_parent\"><img src=\"https://colab.research.google.com/assets/colab-badge.svg\" alt=\"Open In Colab\"/></a>"
      ]
    },
    {
      "cell_type": "code",
      "execution_count": 40,
      "metadata": {
        "id": "gz3YANJdc2Rs"
      },
      "outputs": [],
      "source": [
        "import math\n",
        "import numpy as np\n",
        "import pandas as pd\n",
        "import random\n",
        "from collections import defaultdict\n",
        "from random import randrange\n",
        "import matplotlib.pyplot as plt"
      ]
    },
    {
      "cell_type": "code",
      "source": [
        "random.seed(42)"
      ],
      "metadata": {
        "id": "36G4Uni8nKHA"
      },
      "execution_count": 41,
      "outputs": []
    },
    {
      "cell_type": "code",
      "source": [
        "def create_eligibility_dict(num_factories, num_items):\n",
        "    items = list(range(100, 100 + num_items * 10, 10))\n",
        "    eligibility_dict = {}\n",
        "\n",
        "    # Start with a base number of items for the first factory\n",
        "    num_eligible_items = random.randint(5, 15)\n",
        "\n",
        "    for i in range(1, num_factories + 1):\n",
        "        if i == num_factories:\n",
        "            # Last factory gets all items\n",
        "            eligibility_dict[f\"F{i}\"] = items\n",
        "        else:\n",
        "            eligibility_dict[f\"F{i}\"] = items[:num_eligible_items]\n",
        "            # Randomly determine the number of additional items for the next factory\n",
        "            num_eligible_items += random.randint(1, 10)\n",
        "            # Ensure num_eligible_items does not exceed the total number of items\n",
        "            num_eligible_items = min(num_eligible_items, num_items)\n",
        "\n",
        "    return eligibility_dict"
      ],
      "metadata": {
        "id": "M4M3-erOmy-k"
      },
      "execution_count": 42,
      "outputs": []
    },
    {
      "cell_type": "code",
      "source": [
        "def create_factory_caps(num_factory, max_boxes):\n",
        "    factory_caps = {}\n",
        "    # Start with an initial capacity for the first factory\n",
        "    cap = random.randint(1, max_boxes // 10)  # Starting with a base capacity\n",
        "\n",
        "    for i in range(1, num_factory + 1):\n",
        "        if i == num_factory:\n",
        "            # Last factory gets infinite capacity\n",
        "            factory_caps[f\"F{i}\"] = float('inf')\n",
        "        else:\n",
        "            factory_caps[f\"F{i}\"] = cap\n",
        "            # Randomly increase the capacity for the next factory\n",
        "            cap += random.randint(1, max_boxes // 10)\n",
        "            # Ensure the capacity does not exceed max_boxes\n",
        "            cap = min(cap, max_boxes)\n",
        "\n",
        "    return factory_caps\n",
        "\n",
        "\n",
        "def generate_total_boxes(factory_caps, min_extra_boxes, max_extra_boxes, lead_day):\n",
        "    # Calculate total capacity excluding the infinite capacity\n",
        "    finite_capacity = sum(cap for cap in factory_caps.values() if cap != float('inf'))\n",
        "\n",
        "    # Add a random number of extra boxes to exceed the total capacity\n",
        "    extra_boxes = random.randint(min_extra_boxes, max_extra_boxes)\n",
        "    total_boxes = finite_capacity + extra_boxes\n",
        "\n",
        "    # Determine the proportion of simulated orders based on the lead day\n",
        "    if lead_day == 0:\n",
        "        simulated_order_percentage = 0\n",
        "    else:\n",
        "        # Simulate orders percentage decreases linearly with lead day\n",
        "        simulated_order_percentage = max(0, min(100, (lead_day / 18) * 100))\n",
        "\n",
        "    # Calculate number of real and simulated orders\n",
        "    num_simulated_orders = int(total_boxes * simulated_order_percentage / 100)\n",
        "    num_real_orders = total_boxes - num_simulated_orders\n",
        "\n",
        "    return num_real_orders, num_simulated_orders"
      ],
      "metadata": {
        "id": "edz5nn-kblF3"
      },
      "execution_count": 43,
      "outputs": []
    },
    {
      "cell_type": "code",
      "source": [
        "def generate_order_list(order_count, order_type, items, max_items_per_order):\n",
        "    orders = []\n",
        "    order_id = 1\n",
        "\n",
        "    while order_count > 0:\n",
        "        num_items_in_order = min(random.randint(1, max_items_per_order), order_count)\n",
        "        order_items = random.sample(items, num_items_in_order)\n",
        "        for item in order_items:\n",
        "            orders.append({'order_id': order_id, 'item_id': item, 'order_type': order_type})\n",
        "        order_count -= 1\n",
        "        order_id += 1\n",
        "\n",
        "    return orders\n",
        "\n",
        "def generate_orders(total_real_orders, total_simulated_orders, num_items, max_items_per_order=5):\n",
        "    items = list(range(100, 100 + num_items * 10, 10))\n",
        "\n",
        "    # Generate real orders\n",
        "    real_orders = generate_order_list(total_real_orders, 'real', items, max_items_per_order)\n",
        "\n",
        "    # Generate simulated orders\n",
        "    simulated_orders = generate_order_list(total_simulated_orders, 'simulated', items, max_items_per_order)\n",
        "\n",
        "    # Combine real and simulated orders\n",
        "    all_orders = real_orders + simulated_orders\n",
        "\n",
        "    # Convert to DataFrame\n",
        "    orders_df = pd.DataFrame(all_orders)\n",
        "    return orders_df"
      ],
      "metadata": {
        "id": "KCRYuQ3CvCkT"
      },
      "execution_count": 44,
      "outputs": []
    },
    {
      "cell_type": "code",
      "source": [
        "def compute_orders_eligibility(orders_df, eligibility_dict):\n",
        "    orders_eligibility = []\n",
        "\n",
        "    for order_id in orders_df['order_id'].unique():\n",
        "        order_items = orders_df[orders_df['order_id'] == order_id]['item_id'].tolist()\n",
        "        order_type = orders_df[orders_df['order_id'] == order_id]['order_type'].iloc[0]\n",
        "        eligible_factories = []\n",
        "        for factory, items in eligibility_dict.items():\n",
        "            if all(item in items for item in order_items):\n",
        "                eligible_factories.append(factory)\n",
        "        orders_eligibility.append({'order_id': order_id, 'eligibility': eligible_factories, 'order_type': order_type})\n",
        "\n",
        "    orders_eligibility_df = pd.DataFrame(orders_eligibility)\n",
        "    return orders_eligibility_df"
      ],
      "metadata": {
        "id": "ltGQBfIjXlJ8"
      },
      "execution_count": 45,
      "outputs": []
    },
    {
      "cell_type": "code",
      "source": [
        "eligibility_dict = create_eligibility_dict(20, 100)\n",
        "factory_caps = create_factory_caps(20, 100)\n",
        "\n",
        "# print to check\n",
        "print(list(eligibility_dict.items())[:10])\n",
        "print(\"\\n\")\n",
        "print(list(factory_caps.items())[:10])"
      ],
      "metadata": {
        "colab": {
          "base_uri": "https://localhost:8080/"
        },
        "id": "ZNLo8HCtn8OT",
        "outputId": "d3250332-20b8-498a-ebb4-f54142ce5915"
      },
      "execution_count": 46,
      "outputs": [
        {
          "output_type": "stream",
          "name": "stdout",
          "text": [
            "[('F1', [100, 110, 120, 130, 140, 150, 160, 170, 180, 190, 200, 210, 220, 230, 240]), ('F2', [100, 110, 120, 130, 140, 150, 160, 170, 180, 190, 200, 210, 220, 230, 240, 250, 260]), ('F3', [100, 110, 120, 130, 140, 150, 160, 170, 180, 190, 200, 210, 220, 230, 240, 250, 260, 270]), ('F4', [100, 110, 120, 130, 140, 150, 160, 170, 180, 190, 200, 210, 220, 230, 240, 250, 260, 270, 280, 290, 300, 310, 320]), ('F5', [100, 110, 120, 130, 140, 150, 160, 170, 180, 190, 200, 210, 220, 230, 240, 250, 260, 270, 280, 290, 300, 310, 320, 330, 340, 350, 360]), ('F6', [100, 110, 120, 130, 140, 150, 160, 170, 180, 190, 200, 210, 220, 230, 240, 250, 260, 270, 280, 290, 300, 310, 320, 330, 340, 350, 360, 370, 380, 390, 400]), ('F7', [100, 110, 120, 130, 140, 150, 160, 170, 180, 190, 200, 210, 220, 230, 240, 250, 260, 270, 280, 290, 300, 310, 320, 330, 340, 350, 360, 370, 380, 390, 400, 410, 420, 430]), ('F8', [100, 110, 120, 130, 140, 150, 160, 170, 180, 190, 200, 210, 220, 230, 240, 250, 260, 270, 280, 290, 300, 310, 320, 330, 340, 350, 360, 370, 380, 390, 400, 410, 420, 430, 440, 450]), ('F9', [100, 110, 120, 130, 140, 150, 160, 170, 180, 190, 200, 210, 220, 230, 240, 250, 260, 270, 280, 290, 300, 310, 320, 330, 340, 350, 360, 370, 380, 390, 400, 410, 420, 430, 440, 450, 460, 470, 480, 490, 500, 510, 520, 530, 540]), ('F10', [100, 110, 120, 130, 140, 150, 160, 170, 180, 190, 200, 210, 220, 230, 240, 250, 260, 270, 280, 290, 300, 310, 320, 330, 340, 350, 360, 370, 380, 390, 400, 410, 420, 430, 440, 450, 460, 470, 480, 490, 500, 510, 520, 530, 540, 550, 560])]\n",
            "\n",
            "\n",
            "[('F1', 9), ('F2', 13), ('F3', 22), ('F4', 29), ('F5', 33), ('F6', 41), ('F7', 51), ('F8', 56), ('F9', 57), ('F10', 60)]\n"
          ]
        }
      ]
    },
    {
      "cell_type": "code",
      "source": [
        "real_orders_10, sim_orders_10 = generate_total_boxes(factory_caps, 1000, 2000, 10)\n",
        "orders_10 = generate_orders(real_orders_10, sim_orders_10, 100, 5)\n",
        "order_eligibility_10 = compute_orders_eligibility(orders_10, eligibility_dict)\n",
        "\n",
        "print(\"\\n\")\n",
        "print(orders_10.head())\n",
        "print(\"\\n\")\n",
        "print(order_eligibility_10.head())"
      ],
      "metadata": {
        "colab": {
          "base_uri": "https://localhost:8080/"
        },
        "id": "ED1aD1PW1A4t",
        "outputId": "3b3200bb-5fe4-41a1-93c8-6b8c8bbc0f10"
      },
      "execution_count": 54,
      "outputs": [
        {
          "output_type": "stream",
          "name": "stdout",
          "text": [
            "\n",
            "\n",
            "   order_id  item_id order_type\n",
            "0         1      610       real\n",
            "1         1      970       real\n",
            "2         1      880       real\n",
            "3         1      920       real\n",
            "4         1      460       real\n",
            "\n",
            "\n",
            "   order_id           eligibility order_type\n",
            "0         1            [F19, F20]       real\n",
            "1         2  [F17, F18, F19, F20]       real\n",
            "2         3       [F18, F19, F20]       real\n",
            "3         4            [F19, F20]       real\n",
            "4         5            [F19, F20]       real\n"
          ]
        }
      ]
    },
    {
      "cell_type": "code",
      "source": [
        "real_orders_5, sim_orders_5 = generate_total_boxes(factory_caps, 1000, 2000, 5)\n",
        "orders_5 = generate_orders(real_orders_5, sim_orders_5, 100, 5)\n",
        "order_eligibility_5 = compute_orders_eligibility(orders_5, eligibility_dict)\n",
        "\n",
        "print(\"\\n\")\n",
        "print(orders_5.head())\n",
        "print(\"\\n\")\n",
        "print(order_eligibility_5.head())"
      ],
      "metadata": {
        "colab": {
          "base_uri": "https://localhost:8080/"
        },
        "id": "0vuIwELk1Tvl",
        "outputId": "bf03327f-d94d-4ed8-94be-0a9a4cacc38d"
      },
      "execution_count": 56,
      "outputs": [
        {
          "output_type": "stream",
          "name": "stdout",
          "text": [
            "\n",
            "\n",
            "   order_id  item_id order_type\n",
            "0         1      550       real\n",
            "1         1      740       real\n",
            "2         1      440       real\n",
            "3         2      500       real\n",
            "4         2      670       real\n",
            "\n",
            "\n",
            "   order_id                               eligibility order_type\n",
            "0         1  [F13, F14, F15, F16, F17, F18, F19, F20]       real\n",
            "1         2                                     [F20]       real\n",
            "2         3                                     [F20]       real\n",
            "3         4                 [F16, F17, F18, F19, F20]       real\n",
            "4         5                                [F19, F20]       real\n"
          ]
        }
      ]
    },
    {
      "cell_type": "code",
      "source": [
        "real_orders_0, sim_orders_0 = generate_total_boxes(factory_caps, 1000, 2000, 0)\n",
        "orders_0 = generate_orders(real_orders_0, sim_orders_0, 100, 5)\n",
        "order_eligibility_0 = compute_orders_eligibility(orders_0, eligibility_dict)\n",
        "\n",
        "print(\"\\n\")\n",
        "print(orders_0.head())\n",
        "print(\"\\n\")\n",
        "print(order_eligibility_0.head())"
      ],
      "metadata": {
        "colab": {
          "base_uri": "https://localhost:8080/"
        },
        "id": "C8qsY_Y32PxK",
        "outputId": "b0506807-395a-401b-d6ed-a9406181a488"
      },
      "execution_count": 57,
      "outputs": [
        {
          "output_type": "stream",
          "name": "stdout",
          "text": [
            "\n",
            "\n",
            "   order_id  item_id order_type\n",
            "0         1     1050       real\n",
            "1         1      150       real\n",
            "2         1      600       real\n",
            "3         1      690       real\n",
            "4         2      550       real\n",
            "\n",
            "\n",
            "   order_id                                        eligibility order_type\n",
            "0         1                                              [F20]       real\n",
            "1         2  [F10, F11, F12, F13, F14, F15, F16, F17, F18, ...       real\n",
            "2         3  [F9, F10, F11, F12, F13, F14, F15, F16, F17, F...       real\n",
            "3         4                                         [F19, F20]       real\n",
            "4         5                                         [F19, F20]       real\n"
          ]
        }
      ]
    },
    {
      "cell_type": "code",
      "source": [
        "def plot_factory_capacities(factory_caps):\n",
        "    # Separate the catch-all capacity\n",
        "    Fm = list(factory_caps.keys())[-1]\n",
        "    catch_all_capacity = factory_caps.pop(Fm)\n",
        "\n",
        "    # Prepare data for plotting\n",
        "    factories = list(factory_caps.keys())\n",
        "    capacities = list(factory_caps.values())\n",
        "    capacities.append(catch_all_capacity)  # Append catch-all capacity for plotting\n",
        "\n",
        "    factories.append(\"Catch-all\")  # Add catch-all label\n",
        "\n",
        "    # Plot the data\n",
        "    plt.figure(figsize=(15, 9))\n",
        "    bars = plt.bar(factories, capacities, color='blue')\n",
        "\n",
        "    # Add capacity labels\n",
        "    for bar, capacity in zip(bars, capacities):\n",
        "        if capacity == float('inf'):\n",
        "            plt.text(bar.get_x() + bar.get_width() / 2, bar.get_height() / 2, 'inf', ha='center', va='bottom', color='orange')\n",
        "        else:\n",
        "            plt.text(bar.get_x() + bar.get_width() / 2, bar.get_height() / 2, f'{capacity}', ha='center', va='bottom', color='orange')\n",
        "\n",
        "    plt.xlabel('Factories')\n",
        "    plt.ylabel('Volume')\n",
        "    plt.title('Factory Capacities')\n",
        "    plt.show()"
      ],
      "metadata": {
        "id": "540QcZ2oVW33"
      },
      "execution_count": 37,
      "outputs": []
    },
    {
      "cell_type": "code",
      "source": [
        "plot_factory_capacities(factory_caps.copy())"
      ],
      "metadata": {
        "colab": {
          "base_uri": "https://localhost:8080/",
          "height": 830
        },
        "id": "85nA1HVAV2SE",
        "outputId": "cd3239a2-472b-450d-d723-b01e2630794a"
      },
      "execution_count": 38,
      "outputs": [
        {
          "output_type": "stream",
          "name": "stderr",
          "text": [
            "WARNING:matplotlib.text:posx and posy should be finite values\n",
            "WARNING:matplotlib.text:posx and posy should be finite values\n"
          ]
        },
        {
          "output_type": "display_data",
          "data": {
            "text/plain": [
              "<Figure size 1500x900 with 1 Axes>"
            ],
            "image/png": "[encoded data removed]"
          },
          "metadata": {}
        }
      ]
    },
    {
      "cell_type": "code",
      "source": [
        "def change_order_composition(orders,num_items, change_probability):\n",
        "    items = list(range(100, 100 + num_items * 10, 10))\n",
        "    init_orders = orders.copy()\n",
        "    orders_col = init_orders['order_id']\n",
        "\n",
        "    for order_id in orders_col:\n",
        "        if random.random() < change_probability:\n",
        "            order_items = init_orders[init_orders['order_id'] == order_id]['item_id'].tolist()\n",
        "            item_to_change = random.choice(order_items)\n",
        "            new_item = random.choice([item for item in items if item not in order_items])\n",
        "\n",
        "            # Replace the item in the DataFrame\n",
        "            init_orders.loc[(init_orders['order_id'] == order_id) & (init_orders['item_id'] == item_to_change), 'item_id'] = new_item\n",
        "\n",
        "    return init_orders"
      ],
      "metadata": {
        "id": "EOS5hScIh9_W"
      },
      "execution_count": null,
      "outputs": []
    },
    {
      "cell_type": "code",
      "source": [
        "orders_10 = change_order_composition(orders.copy(), 100, change_probability=0.3)\n",
        "order_10_eligibility = compute_orders_eligibility(orders_10, eligibility_dict)\n",
        "orders_5 = change_order_composition(orders.copy(), 100, change_probability=0.3)\n",
        "order_5_eligibility = compute_orders_eligibility(orders_5, eligibility_dict)"
      ],
      "metadata": {
        "id": "Vaq_eH2Bj_Nd"
      },
      "execution_count": null,
      "outputs": []
    },
    {
      "cell_type": "code",
      "source": [
        "def allocate_orders(allocated_orders, allocated_order_eligibility, allocated_factory_caps):\n",
        "\n",
        "    # Initialize columns\n",
        "    allocated_orders['site'] = 'not_routed'\n",
        "    allocated_order_eligibility['allocated'] = False\n",
        "\n",
        "    # Iterate through each factory except the catch-all\n",
        "    for factory in list(allocated_factory_caps.keys())[:-1]:\n",
        "        cap = allocated_factory_caps[factory]\n",
        "\n",
        "        # Get set S of unrouted orders eligible to the current factory\n",
        "        eligible_orders = allocated_order_eligibility[(allocated_order_eligibility['allocated'] == False) &\n",
        "                               (allocated_order_eligibility['eligibility'].apply(lambda i: factory in i))]\n",
        "\n",
        "        if len(eligible_orders) < cap:\n",
        "            raise ValueError(f'Not enough eligible orders for {factory}')\n",
        "        else:\n",
        "            for _ in range(cap):\n",
        "                # Pick a random order from the eligible list\n",
        "                selected_order = eligible_orders.sample(1).iloc[0]\n",
        "                order_id = selected_order['order_id']\n",
        "\n",
        "                # Allocate items in df_X\n",
        "                allocated_orders.loc[orders['order_id'] == order_id, 'site'] = factory\n",
        "\n",
        "                # Mark the order as allocated in df_Y\n",
        "                allocated_order_eligibility.loc[allocated_order_eligibility['order_id'] == order_id, 'allocated'] = True\n",
        "\n",
        "                # Update the eligible_orders to exclude the allocated order\n",
        "                eligible_orders = eligible_orders[eligible_orders['order_id'] != order_id]\n",
        "\n",
        "    # Allocate remaining orders to catch-all\n",
        "    remaining_orders = allocated_order_eligibility[allocated_order_eligibility['allocated'] == False]\n",
        "    for order_id in remaining_orders['order_id']:\n",
        "        allocated_orders.loc[orders['order_id'] == order_id, 'site'] = list(allocated_factory_caps.keys())[-1]\n",
        "        allocated_order_eligibility.loc[allocated_order_eligibility['order_id'] == order_id, 'allocated'] = True\n",
        "\n",
        "    return allocated_orders\n"
      ],
      "metadata": {
        "id": "JZiceeV6G6Ei"
      },
      "execution_count": null,
      "outputs": []
    },
    {
      "cell_type": "code",
      "source": [
        "ld10_allocation = allocate_orders(orders_10.copy(), order_10_eligibility.copy(), factory_caps.copy())\n",
        "ld5_allocation = allocate_orders(orders_5.copy(), order_5_eligibility.copy(), factory_caps.copy())\n",
        "ld0_allocation = allocate_orders(orders.copy(), order_eligibility.copy(), factory_caps.copy())"
      ],
      "metadata": {
        "id": "wfv6zue-NG-R"
      },
      "execution_count": null,
      "outputs": []
    },
    {
      "cell_type": "code",
      "source": [
        "def aggregate_items(allocated_orders_df, day):\n",
        "    lead_day = 'lead_' + str(day)\n",
        "    aggregated_df = allocated_orders_df.groupby(['item_id', 'site']).size().reset_index(name=lead_day)\n",
        "    return aggregated_df"
      ],
      "metadata": {
        "id": "al4uqikeQUkK"
      },
      "execution_count": null,
      "outputs": []
    },
    {
      "cell_type": "code",
      "source": [
        "aggregated_ld10 = aggregate_items(ld10_allocation, 10)\n",
        "aggregated_ld5 = aggregate_items(ld5_allocation, 5)\n",
        "aggregated_ld0 = aggregate_items(ld0_allocation, 0)"
      ],
      "metadata": {
        "id": "dPVxMJRlQngP"
      },
      "execution_count": null,
      "outputs": []
    },
    {
      "cell_type": "code",
      "source": [
        "def merge_allocation(soft_df, hard_df, soft_num, hard_num):\n",
        "    soft_day = 'lead_' + str(soft_num)\n",
        "    hard_day = 'lead_' + str(hard_num)\n",
        "    # Merge the two dataframes on 'item_id' and 'site'\n",
        "    merged_df = pd.merge(soft_df, hard_df, on=['item_id', 'site'], how='outer')\n",
        "\n",
        "    # Fill NaN values with zeros\n",
        "    merged_df.fillna(0, inplace=True)\n",
        "\n",
        "    # Ensure the integer type for lead_5 and lead_0 columns\n",
        "    merged_df[soft_day] = merged_df[soft_day].astype(int)\n",
        "    merged_df[hard_day] = merged_df[hard_day].astype(int)\n",
        "\n",
        "    return merged_df"
      ],
      "metadata": {
        "id": "DRKoDOeXM5Ib"
      },
      "execution_count": null,
      "outputs": []
    },
    {
      "cell_type": "code",
      "source": [
        "# Merge the dataframes and calculate the absolute error\n",
        "merged_10_0_df = merge_allocation(aggregated_ld10, aggregated_ld0, soft_num=10, hard_num=0)\n",
        "merged_5_0_df = merge_allocation(aggregated_ld5, aggregated_ld0, soft_num=5, hard_num=0)"
      ],
      "metadata": {
        "id": "uLlJb2dTSQ_I"
      },
      "execution_count": null,
      "outputs": []
    },
    {
      "cell_type": "code",
      "source": [
        "def calculate_wmape_site(merged_df, soft_col, hard_col):\n",
        "    total_forecast = merged_df[\"lead_0\"].sum()\n",
        "    site_df = merged_df.copy()\n",
        "    site_df['abs_error'] = (site_df[soft_col] - site_df[hard_col]).abs()\n",
        "\n",
        "    # Calculate WMAPE_site\n",
        "    wmape_site = site_df[\"abs_error\"].sum() / total_forecast\n",
        "\n",
        "    return site_df, wmape_site"
      ],
      "metadata": {
        "id": "X_d1-8imTrmX"
      },
      "execution_count": null,
      "outputs": []
    },
    {
      "cell_type": "code",
      "source": [
        "def calculate_wmape_global(merged_df, soft_col, hard_col):\n",
        "    total_forecast = merged_df[\"lead_0\"].sum()\n",
        "    global_df = merged_df.copy()\n",
        "    global_df = global_df.groupby('item_id').sum().reset_index()\n",
        "    global_df['abs_error'] = (global_df[soft_col] - global_df[hard_col]).abs()\n",
        "    global_df = global_df.drop(['site'], axis=1, errors='ignore')\n",
        "\n",
        "    # Calculate WMAPE_global\n",
        "    wmape_global = global_df[\"abs_error\"].sum() / total_forecast\n",
        "\n",
        "    return global_df, wmape_global"
      ],
      "metadata": {
        "id": "NjjZ1lu6URrb"
      },
      "execution_count": null,
      "outputs": []
    },
    {
      "cell_type": "code",
      "source": [
        "site_10_0_df, wmape_10_0_site = calculate_wmape_site(merged_10_0_df, soft_col='lead_10', hard_col='lead_0')\n",
        "global_10_0_df, wmape_10_0_global = calculate_wmape_global(merged_10_0_df, soft_col='lead_10', hard_col='lead_0')\n",
        "site_5_0_df, wmape_5_0_site = calculate_wmape_site(merged_5_0_df, soft_col='lead_5', hard_col='lead_0')\n",
        "global_5_0_df, wmape_5_0_global = calculate_wmape_global(merged_5_0_df, soft_col='lead_5', hard_col='lead_0')"
      ],
      "metadata": {
        "id": "cUgFGh2niyb9"
      },
      "execution_count": null,
      "outputs": []
    },
    {
      "cell_type": "code",
      "source": [
        "lead_days = [10, 5, 0]\n",
        "wmape_site_values = [wmape_10_0_site, wmape_5_0_site, 0]\n",
        "wmape_global_values = [wmape_10_0_global, wmape_5_0_global, 0]\n",
        "\n",
        "# Plot the data\n",
        "plt.plot(lead_days, wmape_site_values, linestyle='-', color='b', label=\"wmape_site\")\n",
        "plt.plot(lead_days, wmape_global_values, linestyle='-', color='r', label=\"wmape_global\")\n",
        "plt.xlabel('Lead Day')\n",
        "plt.ylabel('Error')\n",
        "plt.title('Error Values for Different Lead Days')\n",
        "plt.xticks([10, 5, 0])\n",
        "plt.legend()\n",
        "plt.gca().invert_xaxis()  # Invert x-axis to have 0 at the end\n",
        "plt.show()"
      ],
      "metadata": {
        "colab": {
          "base_uri": "https://localhost:8080/",
          "height": 472
        },
        "id": "XNEEdxdwVyYH",
        "outputId": "15649309-09d5-49df-b502-413645eb1e47"
      },
      "execution_count": null,
      "outputs": [
        {
          "output_type": "display_data",
          "data": {
            "text/plain": [
              "<Figure size 640x480 with 1 Axes>"
            ],
            "image/png": "[encoded data removed]"
          },
          "metadata": {}
        }
      ]
    },
    {
      "cell_type": "code",
      "source": [],
      "metadata": {
        "id": "9Sd0VtLzZACc"
      },
      "execution_count": null,
      "outputs": []
    }
  ]
}