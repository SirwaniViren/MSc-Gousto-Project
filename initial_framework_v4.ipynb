{
  "nbformat": 4,
  "nbformat_minor": 0,
  "metadata": {
    "colab": {
      "provenance": [],
      "include_colab_link": true
    },
    "kernelspec": {
      "name": "python3",
      "display_name": "Python 3"
    },
    "language_info": {
      "name": "python"
    }
  },
  "cells": [
    {
      "cell_type": "markdown",
      "metadata": {
        "id": "view-in-github",
        "colab_type": "text"
      },
      "source": [
        "<a href=\"https://colab.research.google.com/github/SirwaniViren/MSc-Gousto-Project/blob/main/initial_framework_v4.ipynb\" target=\"_parent\"><img src=\"https://colab.research.google.com/assets/colab-badge.svg\" alt=\"Open In Colab\"/></a>"
      ]
    },
    {
      "cell_type": "code",
      "execution_count": 4,
      "metadata": {
        "id": "gz3YANJdc2Rs"
      },
      "outputs": [],
      "source": [
        "import math\n",
        "import numpy as np\n",
        "import pandas as pd\n",
        "import random\n",
        "from collections import defaultdict\n",
        "from random import randrange\n",
        "import matplotlib.pyplot as plt"
      ]
    },
    {
      "cell_type": "code",
      "source": [
        "random.seed(42)"
      ],
      "metadata": {
        "id": "36G4Uni8nKHA"
      },
      "execution_count": 5,
      "outputs": []
    },
    {
      "cell_type": "markdown",
      "source": [
        "# Creating Synthetic Data\n",
        "Here we have a few functions which are used to create synthetic data that we can later work with to allocate the orders to their respecitve factories."
      ],
      "metadata": {
        "id": "CH6fYOrjNAD5"
      }
    },
    {
      "cell_type": "code",
      "source": [
        "def create_eligibility_dict(num_factories, num_items):\n",
        "    items = list(range(100, 100 + num_items * 10, 10))\n",
        "    eligibility_dict = {}\n",
        "\n",
        "    # Start with a base number of items for the first factory\n",
        "    num_eligible_items = random.randint(5, 15)\n",
        "\n",
        "    for i in range(1, num_factories + 1):\n",
        "        if i == num_factories:\n",
        "            # Last factory gets all items\n",
        "            eligibility_dict[f\"F{i}\"] = items\n",
        "        else:\n",
        "            eligibility_dict[f\"F{i}\"] = items[:num_eligible_items]\n",
        "            # Randomly determine the number of additional items for the next factory\n",
        "            num_eligible_items += random.randint(1, 10)\n",
        "            # Ensure num_eligible_items does not exceed the total number of items\n",
        "            num_eligible_items = min(num_eligible_items, num_items)\n",
        "\n",
        "    return eligibility_dict"
      ],
      "metadata": {
        "id": "M4M3-erOmy-k"
      },
      "execution_count": 6,
      "outputs": []
    },
    {
      "cell_type": "code",
      "source": [
        "def create_factory_caps(num_factory, max_boxes):\n",
        "    factory_caps = {}\n",
        "    # Start with an initial capacity for the first factory\n",
        "    cap = random.randint(1, max_boxes // 10)  # Starting with a base capacity\n",
        "\n",
        "    for i in range(1, num_factory + 1):\n",
        "        if i == num_factory:\n",
        "            # Last factory gets infinite capacity\n",
        "            factory_caps[f\"F{i}\"] = float('inf')\n",
        "        else:\n",
        "            factory_caps[f\"F{i}\"] = cap\n",
        "            # Randomly increase the capacity for the next factory\n",
        "            cap += random.randint(1, max_boxes // 10)\n",
        "            # Ensure the capacity does not exceed max_boxes\n",
        "            cap = min(cap, max_boxes)\n",
        "\n",
        "    return factory_caps\n",
        "\n",
        "\n",
        "def generate_total_boxes(factory_caps, min_extra_boxes, max_extra_boxes, lead_day):\n",
        "    # Calculate total capacity excluding the infinite capacity\n",
        "    finite_capacity = sum(cap for cap in factory_caps.values() if cap != float('inf'))\n",
        "\n",
        "    # Add a random number of extra boxes to exceed the total capacity\n",
        "    extra_boxes = random.randint(min_extra_boxes, max_extra_boxes)\n",
        "    total_boxes = finite_capacity + extra_boxes\n",
        "\n",
        "    # Determine the proportion of simulated orders based on the lead day\n",
        "    if lead_day == 0:\n",
        "        simulated_order_percentage = 0\n",
        "    else:\n",
        "        # Simulate orders percentage decreases linearly with lead day\n",
        "        simulated_order_percentage = max(0, min(100, (lead_day / 18) * 100))\n",
        "\n",
        "    # Calculate number of real and simulated orders\n",
        "    num_simulated_orders = int(total_boxes * simulated_order_percentage / 100)\n",
        "    num_real_orders = total_boxes - num_simulated_orders\n",
        "\n",
        "    return num_real_orders, num_simulated_orders"
      ],
      "metadata": {
        "id": "edz5nn-kblF3"
      },
      "execution_count": 7,
      "outputs": []
    },
    {
      "cell_type": "code",
      "source": [
        "def generate_order_list(start_order_id, order_count, order_type, items, max_items_per_order):\n",
        "    orders = []\n",
        "    order_id = start_order_id\n",
        "\n",
        "    while order_count > 0:\n",
        "        num_items_in_order = min(random.randint(1, max_items_per_order), len(items))\n",
        "        order_items = random.sample(items, num_items_in_order)\n",
        "        for item in order_items:\n",
        "            orders.append({'order_id': order_id, 'item_id': item, 'order_type': order_type})\n",
        "        order_count -= 1\n",
        "        order_id += 1\n",
        "\n",
        "    return orders, order_id\n",
        "\n",
        "def generate_orders(total_real_orders, total_simulated_orders, num_items, max_items_per_order=5):\n",
        "    items = list(range(100, 100 + num_items * 10, 10))\n",
        "    current_order_id = 1\n",
        "\n",
        "    # Generate real orders\n",
        "    real_orders, current_order_id = generate_order_list(current_order_id, total_real_orders, 'real', items, max_items_per_order)\n",
        "\n",
        "    # Generate simulated orders\n",
        "    simulated_orders, _ = generate_order_list(current_order_id, total_simulated_orders, 'simulated', items, max_items_per_order)\n",
        "\n",
        "    # Combine real and simulated orders\n",
        "    all_orders = real_orders + simulated_orders\n",
        "\n",
        "    # Convert to DataFrame\n",
        "    orders_df = pd.DataFrame(all_orders)\n",
        "    return orders_df"
      ],
      "metadata": {
        "id": "KCRYuQ3CvCkT"
      },
      "execution_count": 8,
      "outputs": []
    },
    {
      "cell_type": "code",
      "source": [
        "def compute_orders_eligibility(orders_df, eligibility_dict):\n",
        "    orders_eligibility = []\n",
        "\n",
        "    for order_id in orders_df['order_id'].unique():\n",
        "        order_items = orders_df[orders_df['order_id'] == order_id]['item_id'].tolist()\n",
        "        order_type = orders_df[orders_df['order_id'] == order_id]['order_type'].iloc[0]\n",
        "        eligible_factories = []\n",
        "        for factory, items in eligibility_dict.items():\n",
        "            if all(item in items for item in order_items):\n",
        "                eligible_factories.append(factory)\n",
        "        orders_eligibility.append({'order_id': order_id, 'eligibility': eligible_factories, 'order_type': order_type})\n",
        "\n",
        "    orders_eligibility_df = pd.DataFrame(orders_eligibility)\n",
        "    return orders_eligibility_df"
      ],
      "metadata": {
        "id": "ltGQBfIjXlJ8"
      },
      "execution_count": 9,
      "outputs": []
    },
    {
      "cell_type": "markdown",
      "source": [
        "# Implement Functions to produce synthetic data"
      ],
      "metadata": {
        "id": "1td7hG9yNjsE"
      }
    },
    {
      "cell_type": "code",
      "source": [
        "eligibility_dict = create_eligibility_dict(20, 100)\n",
        "factory_caps = create_factory_caps(20, 100)\n",
        "\n",
        "# print to check\n",
        "print(list(eligibility_dict.items())[:10])\n",
        "print(\"\\n\")\n",
        "print(list(factory_caps.items())[:10])"
      ],
      "metadata": {
        "colab": {
          "base_uri": "https://localhost:8080/"
        },
        "id": "ZNLo8HCtn8OT",
        "outputId": "2f82ea8c-ab05-406e-f4e9-f4671078fe3c"
      },
      "execution_count": 87,
      "outputs": [
        {
          "output_type": "stream",
          "name": "stdout",
          "text": [
            "[('F1', [100, 110, 120, 130, 140, 150, 160, 170, 180, 190]), ('F2', [100, 110, 120, 130, 140, 150, 160, 170, 180, 190, 200, 210, 220, 230, 240, 250, 260]), ('F3', [100, 110, 120, 130, 140, 150, 160, 170, 180, 190, 200, 210, 220, 230, 240, 250, 260, 270, 280, 290, 300, 310]), ('F4', [100, 110, 120, 130, 140, 150, 160, 170, 180, 190, 200, 210, 220, 230, 240, 250, 260, 270, 280, 290, 300, 310, 320, 330, 340, 350, 360]), ('F5', [100, 110, 120, 130, 140, 150, 160, 170, 180, 190, 200, 210, 220, 230, 240, 250, 260, 270, 280, 290, 300, 310, 320, 330, 340, 350, 360, 370, 380, 390, 400]), ('F6', [100, 110, 120, 130, 140, 150, 160, 170, 180, 190, 200, 210, 220, 230, 240, 250, 260, 270, 280, 290, 300, 310, 320, 330, 340, 350, 360, 370, 380, 390, 400, 410, 420, 430, 440]), ('F7', [100, 110, 120, 130, 140, 150, 160, 170, 180, 190, 200, 210, 220, 230, 240, 250, 260, 270, 280, 290, 300, 310, 320, 330, 340, 350, 360, 370, 380, 390, 400, 410, 420, 430, 440, 450, 460, 470, 480, 490, 500, 510]), ('F8', [100, 110, 120, 130, 140, 150, 160, 170, 180, 190, 200, 210, 220, 230, 240, 250, 260, 270, 280, 290, 300, 310, 320, 330, 340, 350, 360, 370, 380, 390, 400, 410, 420, 430, 440, 450, 460, 470, 480, 490, 500, 510, 520, 530, 540, 550, 560, 570, 580, 590]), ('F9', [100, 110, 120, 130, 140, 150, 160, 170, 180, 190, 200, 210, 220, 230, 240, 250, 260, 270, 280, 290, 300, 310, 320, 330, 340, 350, 360, 370, 380, 390, 400, 410, 420, 430, 440, 450, 460, 470, 480, 490, 500, 510, 520, 530, 540, 550, 560, 570, 580, 590, 600, 610]), ('F10', [100, 110, 120, 130, 140, 150, 160, 170, 180, 190, 200, 210, 220, 230, 240, 250, 260, 270, 280, 290, 300, 310, 320, 330, 340, 350, 360, 370, 380, 390, 400, 410, 420, 430, 440, 450, 460, 470, 480, 490, 500, 510, 520, 530, 540, 550, 560, 570, 580, 590, 600, 610, 620])]\n",
            "\n",
            "\n",
            "[('F1', 3), ('F2', 8), ('F3', 12), ('F4', 14), ('F5', 17), ('F6', 25), ('F7', 31), ('F8', 37), ('F9', 45), ('F10', 51)]\n"
          ]
        }
      ]
    },
    {
      "cell_type": "code",
      "source": [
        "real_orders_10, sim_orders_10 = generate_total_boxes(factory_caps, 1000, 2000, 10)\n",
        "orders_10 = generate_orders(real_orders_10, sim_orders_10, 100, 5)\n",
        "order_eligibility_10 = compute_orders_eligibility(orders_10, eligibility_dict)\n",
        "\n",
        "print(\"\\n\")\n",
        "print(orders_10.head())\n",
        "print(\"\\n\")\n",
        "print(order_eligibility_10.head())"
      ],
      "metadata": {
        "colab": {
          "base_uri": "https://localhost:8080/"
        },
        "id": "W7EyEjDRJK0z",
        "outputId": "1f748e0c-c0a0-450f-c648-a4e64a3d4f4c"
      },
      "execution_count": 89,
      "outputs": [
        {
          "output_type": "stream",
          "name": "stdout",
          "text": [
            "\n",
            "\n",
            "   order_id  item_id order_type\n",
            "0         1      890       real\n",
            "1         1      800       real\n",
            "2         2      830       real\n",
            "3         2      940       real\n",
            "4         2      810       real\n",
            "\n",
            "\n",
            "   order_id                     eligibility order_type\n",
            "0         1       [F16, F17, F18, F19, F20]       real\n",
            "1         2            [F17, F18, F19, F20]       real\n",
            "2         3  [F15, F16, F17, F18, F19, F20]       real\n",
            "3         4  [F15, F16, F17, F18, F19, F20]       real\n",
            "4         5                 [F18, F19, F20]       real\n"
          ]
        }
      ]
    },
    {
      "cell_type": "code",
      "source": [
        "real_orders_5, sim_orders_5 = generate_total_boxes(factory_caps, 1000, 2000, 5)\n",
        "orders_5 = generate_orders(real_orders_5, sim_orders_5, 100, 5)\n",
        "order_eligibility_5 = compute_orders_eligibility(orders_5, eligibility_dict)\n",
        "\n",
        "print(\"\\n\")\n",
        "print(orders_5.head())\n",
        "print(\"\\n\")\n",
        "print(order_eligibility_5.head())"
      ],
      "metadata": {
        "colab": {
          "base_uri": "https://localhost:8080/"
        },
        "id": "0vuIwELk1Tvl",
        "outputId": "5a8a29c2-a6d2-4044-ba0c-a2c7b68f655c"
      },
      "execution_count": 90,
      "outputs": [
        {
          "output_type": "stream",
          "name": "stdout",
          "text": [
            "\n",
            "\n",
            "   order_id  item_id order_type\n",
            "0         1      630       real\n",
            "1         1      950       real\n",
            "2         2      300       real\n",
            "3         2     1090       real\n",
            "4         2     1080       real\n",
            "\n",
            "\n",
            "   order_id           eligibility order_type\n",
            "0         1  [F17, F18, F19, F20]       real\n",
            "1         2            [F19, F20]       real\n",
            "2         3       [F18, F19, F20]       real\n",
            "3         4  [F17, F18, F19, F20]       real\n",
            "4         5  [F17, F18, F19, F20]       real\n"
          ]
        }
      ]
    },
    {
      "cell_type": "code",
      "source": [
        "real_orders_0, sim_orders_0 = generate_total_boxes(factory_caps, 1000, 2000, 0)\n",
        "orders_0 = generate_orders(real_orders_0, sim_orders_0, 100, 5)\n",
        "order_eligibility_0 = compute_orders_eligibility(orders_0, eligibility_dict)\n",
        "\n",
        "print(\"\\n\")\n",
        "print(orders_0.head())\n",
        "print(\"\\n\")\n",
        "print(order_eligibility_0.head())"
      ],
      "metadata": {
        "colab": {
          "base_uri": "https://localhost:8080/"
        },
        "id": "C8qsY_Y32PxK",
        "outputId": "fd7641e7-da9f-4322-c348-deb4e550a476"
      },
      "execution_count": 91,
      "outputs": [
        {
          "output_type": "stream",
          "name": "stdout",
          "text": [
            "\n",
            "\n",
            "   order_id  item_id order_type\n",
            "0         1      890       real\n",
            "1         1      520       real\n",
            "2         2      130       real\n",
            "3         2      380       real\n",
            "4         3      220       real\n",
            "\n",
            "\n",
            "   order_id                                        eligibility order_type\n",
            "0         1                          [F16, F17, F18, F19, F20]       real\n",
            "1         2  [F5, F6, F7, F8, F9, F10, F11, F12, F13, F14, ...       real\n",
            "2         3                               [F17, F18, F19, F20]       real\n",
            "3         4      [F12, F13, F14, F15, F16, F17, F18, F19, F20]       real\n",
            "4         5                                         [F19, F20]       real\n"
          ]
        }
      ]
    },
    {
      "cell_type": "code",
      "source": [
        "def allocate_orders(allocated_orders, allocated_order_eligibility, allocated_factory_caps):\n",
        "    # Initialize columns\n",
        "    allocated_orders['site'] = 'not_routed'\n",
        "    allocated_order_eligibility['allocated'] = False\n",
        "\n",
        "    # Iterate through each factory except the catch-all\n",
        "    for factory in list(allocated_factory_caps.keys())[:-1]:\n",
        "        cap = allocated_factory_caps[factory]\n",
        "\n",
        "        # Get set S of unrouted orders eligible to the current factory\n",
        "        eligible_orders = allocated_order_eligibility[(allocated_order_eligibility['allocated'] == False) &\n",
        "                                                      (allocated_order_eligibility['eligibility'].apply(lambda i: factory in i))]\n",
        "\n",
        "        if len(eligible_orders) < cap:\n",
        "            raise ValueError(f'Not enough eligible orders for {factory}')\n",
        "        else:\n",
        "            for _ in range(cap):\n",
        "                if len(eligible_orders) == 0:\n",
        "                    break\n",
        "                # Pick a random order from the eligible list\n",
        "                selected_order = eligible_orders.sample(1).iloc[0]\n",
        "                order_id = selected_order['order_id']\n",
        "\n",
        "                # Allocate items in allocated_orders\n",
        "                allocated_orders.loc[allocated_orders['order_id'] == order_id, 'site'] = factory\n",
        "\n",
        "                # Mark the order as allocated in allocated_order_eligibility\n",
        "                allocated_order_eligibility.loc[allocated_order_eligibility['order_id'] == order_id, 'allocated'] = True\n",
        "\n",
        "                # Update the eligible_orders to exclude the allocated order\n",
        "                eligible_orders = eligible_orders[eligible_orders['order_id'] != order_id]\n",
        "\n",
        "    # Allocate remaining orders to catch-all\n",
        "    catch_all_factory = list(allocated_factory_caps.keys())[-1]\n",
        "    remaining_orders = allocated_order_eligibility[allocated_order_eligibility['allocated'] == False]\n",
        "    for order_id in remaining_orders['order_id']:\n",
        "        allocated_orders.loc[allocated_orders['order_id'] == order_id, 'site'] = catch_all_factory\n",
        "        allocated_order_eligibility.loc[allocated_order_eligibility['order_id'] == order_id, 'allocated'] = True\n",
        "\n",
        "    return allocated_orders"
      ],
      "metadata": {
        "id": "JZiceeV6G6Ei"
      },
      "execution_count": 92,
      "outputs": []
    },
    {
      "cell_type": "markdown",
      "source": [
        "# Allocate orders to factories\n",
        "We have a function which greedily allocates the orders to factories. By greedy we mean allocate orders to factory 1 until we have reached its capacity, then move on to factory 2, etc ..."
      ],
      "metadata": {
        "id": "jH6wTKUXNwWI"
      }
    },
    {
      "cell_type": "code",
      "source": [
        "allocation_10 = allocate_orders(orders_10.copy(), order_eligibility_10.copy(), factory_caps.copy())\n",
        "allocation_5 = allocate_orders(orders_5.copy(), order_eligibility_5.copy(), factory_caps.copy())\n",
        "allocation_0 = allocate_orders(orders_0.copy(), order_eligibility_0.copy(), factory_caps.copy())"
      ],
      "metadata": {
        "id": "wfv6zue-NG-R"
      },
      "execution_count": 93,
      "outputs": []
    },
    {
      "cell_type": "code",
      "source": [
        "print(allocation_10)"
      ],
      "metadata": {
        "colab": {
          "base_uri": "https://localhost:8080/"
        },
        "id": "vKrI9IrvJfjb",
        "outputId": "8ab5bbf9-5aec-421e-ef9c-0a51bf2b4b86"
      },
      "execution_count": 94,
      "outputs": [
        {
          "output_type": "stream",
          "name": "stdout",
          "text": [
            "      order_id  item_id order_type site\n",
            "0            1      890       real  F20\n",
            "1            1      800       real  F20\n",
            "2            2      830       real  F19\n",
            "3            2      940       real  F19\n",
            "4            2      810       real  F19\n",
            "...        ...      ...        ...  ...\n",
            "6313      2105      370  simulated  F20\n",
            "6314      2105     1010  simulated  F20\n",
            "6315      2105      480  simulated  F20\n",
            "6316      2106      840  simulated  F20\n",
            "6317      2107      940  simulated  F17\n",
            "\n",
            "[6318 rows x 4 columns]\n"
          ]
        }
      ]
    },
    {
      "cell_type": "code",
      "source": [
        "print(allocation_5)"
      ],
      "metadata": {
        "colab": {
          "base_uri": "https://localhost:8080/"
        },
        "id": "hiSB5DrY8XG0",
        "outputId": "e17a48ff-6841-4443-8435-753de5402e4e"
      },
      "execution_count": 95,
      "outputs": [
        {
          "output_type": "stream",
          "name": "stdout",
          "text": [
            "      order_id  item_id order_type site\n",
            "0            1      630       real  F20\n",
            "1            1      950       real  F20\n",
            "2            2      300       real  F20\n",
            "3            2     1090       real  F20\n",
            "4            2     1080       real  F20\n",
            "...        ...      ...        ...  ...\n",
            "7639      2556      700  simulated  F20\n",
            "7640      2557     1090  simulated  F20\n",
            "7641      2557      540  simulated  F20\n",
            "7642      2557      350  simulated  F20\n",
            "7643      2557      320  simulated  F20\n",
            "\n",
            "[7644 rows x 4 columns]\n"
          ]
        }
      ]
    },
    {
      "cell_type": "code",
      "source": [
        "print(allocation_0)"
      ],
      "metadata": {
        "colab": {
          "base_uri": "https://localhost:8080/"
        },
        "id": "dmruSusi9-XR",
        "outputId": "06e73389-b47d-4e14-c4b6-f539d3463e8f"
      },
      "execution_count": 96,
      "outputs": [
        {
          "output_type": "stream",
          "name": "stdout",
          "text": [
            "      order_id  item_id order_type site\n",
            "0            1      890       real  F20\n",
            "1            1      520       real  F20\n",
            "2            2      130       real  F10\n",
            "3            2      380       real  F10\n",
            "4            3      220       real  F17\n",
            "...        ...      ...        ...  ...\n",
            "7713      2618      530       real  F13\n",
            "7714      2619     1040       real  F20\n",
            "7715      2619      590       real  F20\n",
            "7716      2620      530       real  F12\n",
            "7717      2620      380       real  F12\n",
            "\n",
            "[7718 rows x 4 columns]\n"
          ]
        }
      ]
    },
    {
      "cell_type": "markdown",
      "source": [
        "# Plot factory Capcities for each lead day"
      ],
      "metadata": {
        "id": "LNS9KjEVOLGa"
      }
    },
    {
      "cell_type": "code",
      "source": [
        "def plot_factory_capacities(allocated_orders_df, factory_caps, lead_day):\n",
        "    # Aggregate the orders by site and type\n",
        "    real_orders_agg = allocated_orders_df[allocated_orders_df['order_type'] == 'real'].groupby('site')['order_id'].nunique()\n",
        "    simulated_orders_agg = allocated_orders_df[allocated_orders_df['order_type'] == 'simulated'].groupby('site')['order_id'].nunique()\n",
        "\n",
        "    # Ensure all sites are included in the aggregation and in the correct order\n",
        "    all_sites = list(factory_caps.keys())\n",
        "    real_orders_agg = real_orders_agg.reindex(all_sites, fill_value=0)\n",
        "    simulated_orders_agg = simulated_orders_agg.reindex(all_sites, fill_value=0)\n",
        "\n",
        "    # Prepare data for plotting\n",
        "    sites = all_sites\n",
        "    real_volumes = real_orders_agg[sites].values\n",
        "    simulated_volumes = simulated_orders_agg[sites].values\n",
        "    capacities = [factory_caps[site] if site in factory_caps else 0 for site in sites]\n",
        "\n",
        "    # Plot the data\n",
        "    fig, ax = plt.subplots(figsize=(15, 9))\n",
        "    bar_width = 0.6\n",
        "\n",
        "    bars_real = ax.bar(sites, real_volumes, bar_width, color='blue', label='Real Orders')\n",
        "    bars_simulated = ax.bar(sites, simulated_volumes, bar_width, bottom=real_volumes, color='orange', label='Simulated Orders')\n",
        "\n",
        "    # Add capacity lines and labels\n",
        "    for site, cap in zip(sites, capacities):\n",
        "        if cap == float('inf'):\n",
        "            cap_label = 'inf'\n",
        "        else:\n",
        "            cap_label = str(cap)\n",
        "            ax.plot([site, site], [0, cap], color='red', linestyle='--')\n",
        "            ax.text(site, cap, cap_label, ha='center', va='bottom', color='red')\n",
        "\n",
        "    ax.set_xlabel('Factories')\n",
        "    ax.set_ylabel('Number of Orders')\n",
        "    ax.set_title(f'Factory Capacities - Lead Day {lead_day}')\n",
        "    ax.legend()\n",
        "\n",
        "    plt.show()"
      ],
      "metadata": {
        "id": "Qb6DlHrp-Bkm"
      },
      "execution_count": 97,
      "outputs": []
    },
    {
      "cell_type": "code",
      "source": [
        "plot_factory_capacities(allocation_10.copy(), factory_caps.copy(), 10)"
      ],
      "metadata": {
        "colab": {
          "base_uri": "https://localhost:8080/",
          "height": 795
        },
        "id": "iS-ORVLkJmF1",
        "outputId": "1896d9e2-c38a-47cb-af81-f79f02605cd5"
      },
      "execution_count": 98,
      "outputs": [
        {
          "output_type": "display_data",
          "data": {
            "text/plain": [
              "<Figure size 1500x900 with 1 Axes>"
            ],
            "image/png": "[encoded data removed]"
          },
          "metadata": {}
        }
      ]
    },
    {
      "cell_type": "code",
      "source": [
        "plot_factory_capacities(allocation_5.copy(), factory_caps.copy(), 5)"
      ],
      "metadata": {
        "colab": {
          "base_uri": "https://localhost:8080/",
          "height": 795
        },
        "id": "z4rqfSvK-FFf",
        "outputId": "f41d41b9-4358-49bd-be3f-2bee1e270f93"
      },
      "execution_count": 99,
      "outputs": [
        {
          "output_type": "display_data",
          "data": {
            "text/plain": [
              "<Figure size 1500x900 with 1 Axes>"
            ],
            "image/png": "[encoded data removed]"
          },
          "metadata": {}
        }
      ]
    },
    {
      "cell_type": "code",
      "source": [
        "plot_factory_capacities(allocation_0.copy(), factory_caps, 0)"
      ],
      "metadata": {
        "colab": {
          "base_uri": "https://localhost:8080/",
          "height": 795
        },
        "id": "T4y3p3L5-NpS",
        "outputId": "334fa0f2-285a-4e2c-d385-19850c45698f"
      },
      "execution_count": 100,
      "outputs": [
        {
          "output_type": "display_data",
          "data": {
            "text/plain": [
              "<Figure size 1500x900 with 1 Axes>"
            ],
            "image/png": "[encoded data removed]"
          },
          "metadata": {}
        }
      ]
    },
    {
      "cell_type": "markdown",
      "source": [
        "# Temporal plot to show split of simulated orders vs real orders"
      ],
      "metadata": {
        "id": "14KGjm43OQrD"
      }
    },
    {
      "cell_type": "markdown",
      "source": [
        "# Aggregate items and Merge allocation dataframes\n",
        "We aggregate the allocated orders dataframes in terms of item_id and we the merge the aggregated dataframes depending on which lead days we would like to compare."
      ],
      "metadata": {
        "id": "pZk0KyNuOayY"
      }
    },
    {
      "cell_type": "code",
      "source": [
        "def aggregate_items(allocated_orders_df, day):\n",
        "    lead_day = 'lead_' + str(day)\n",
        "    aggregated_df = allocated_orders_df.groupby(['item_id', 'site']).size().reset_index(name=lead_day)\n",
        "    return aggregated_df"
      ],
      "metadata": {
        "id": "al4uqikeQUkK"
      },
      "execution_count": 101,
      "outputs": []
    },
    {
      "cell_type": "code",
      "source": [
        "aggregated_10 = aggregate_items(allocation_10, 10)\n",
        "aggregated_5 = aggregate_items(allocation_5, 5)\n",
        "aggregated_0 = aggregate_items(allocation_0, 0)"
      ],
      "metadata": {
        "id": "dPVxMJRlQngP"
      },
      "execution_count": 102,
      "outputs": []
    },
    {
      "cell_type": "code",
      "source": [
        "aggregated_10.head()"
      ],
      "metadata": {
        "colab": {
          "base_uri": "https://localhost:8080/",
          "height": 206
        },
        "id": "RJIjhVGrOo0h",
        "outputId": "830e5c4b-a2b6-4362-e64b-b7492228ea10"
      },
      "execution_count": 111,
      "outputs": [
        {
          "output_type": "execute_result",
          "data": {
            "text/plain": [
              "   item_id site  lead_10\n",
              "0      100  F10        1\n",
              "1      100  F11        3\n",
              "2      100  F12        3\n",
              "3      100  F13        2\n",
              "4      100  F14        1"
            ],
            "text/html": [
              "\n",
              "  <div id=\"df-3db3bc31-6ad4-4323-aa93-d7159ac82c92\" class=\"colab-df-container\">\n",
              "    <div>\n",
              "<style scoped>\n",
              "    .dataframe tbody tr th:only-of-type {\n",
              "        vertical-align: middle;\n",
              "    }\n",
              "\n",
              "    .dataframe tbody tr th {\n",
              "        vertical-align: top;\n",
              "    }\n",
              "\n",
              "    .dataframe thead th {\n",
              "        text-align: right;\n",
              "    }\n",
              "</style>\n",
              "<table border=\"1\" class=\"dataframe\">\n",
              "  <thead>\n",
              "    <tr style=\"text-align: right;\">\n",
              "      <th></th>\n",
              "      <th>item_id</th>\n",
              "      <th>site</th>\n",
              "      <th>lead_10</th>\n",
              "    </tr>\n",
              "  </thead>\n",
              "  <tbody>\n",
              "    <tr>\n",
              "      <th>0</th>\n",
              "      <td>100</td>\n",
              "      <td>F10</td>\n",
              "      <td>1</td>\n",
              "    </tr>\n",
              "    <tr>\n",
              "      <th>1</th>\n",
              "      <td>100</td>\n",
              "      <td>F11</td>\n",
              "      <td>3</td>\n",
              "    </tr>\n",
              "    <tr>\n",
              "      <th>2</th>\n",
              "      <td>100</td>\n",
              "      <td>F12</td>\n",
              "      <td>3</td>\n",
              "    </tr>\n",
              "    <tr>\n",
              "      <th>3</th>\n",
              "      <td>100</td>\n",
              "      <td>F13</td>\n",
              "      <td>2</td>\n",
              "    </tr>\n",
              "    <tr>\n",
              "      <th>4</th>\n",
              "      <td>100</td>\n",
              "      <td>F14</td>\n",
              "      <td>1</td>\n",
              "    </tr>\n",
              "  </tbody>\n",
              "</table>\n",
              "</div>\n",
              "    <div class=\"colab-df-buttons\">\n",
              "\n",
              "  <div class=\"colab-df-container\">\n",
              "    <button class=\"colab-df-convert\" onclick=\"convertToInteractive('df-3db3bc31-6ad4-4323-aa93-d7159ac82c92')\"\n",
              "            title=\"Convert this dataframe to an interactive table.\"\n",
              "            style=\"display:none;\">\n",
              "\n",
              "  <svg xmlns=\"http://www.w3.org/2000/svg\" height=\"24px\" viewBox=\"0 -960 960 960\">\n",
              "    <path d=\"M120-120v-720h720v720H120Zm60-500h600v-160H180v160Zm220 220h160v-160H400v160Zm0 220h160v-160H400v160ZM180-400h160v-160H180v160Zm440 0h160v-160H620v160ZM180-180h160v-160H180v160Zm440 0h160v-160H620v160Z\"/>\n",
              "  </svg>\n",
              "    </button>\n",
              "\n",
              "  <style>\n",
              "    .colab-df-container {\n",
              "      display:flex;\n",
              "      gap: 12px;\n",
              "    }\n",
              "\n",
              "    .colab-df-convert {\n",
              "      background-color: #E8F0FE;\n",
              "      border: none;\n",
              "      border-radius: 50%;\n",
              "      cursor: pointer;\n",
              "      display: none;\n",
              "      fill: #1967D2;\n",
              "      height: 32px;\n",
              "      padding: 0 0 0 0;\n",
              "      width: 32px;\n",
              "    }\n",
              "\n",
              "    .colab-df-convert:hover {\n",
              "      background-color: #E2EBFA;\n",
              "      box-shadow: 0px 1px 2px rgba(60, 64, 67, 0.3), 0px 1px 3px 1px rgba(60, 64, 67, 0.15);\n",
              "      fill: #174EA6;\n",
              "    }\n",
              "\n",
              "    .colab-df-buttons div {\n",
              "      margin-bottom: 4px;\n",
              "    }\n",
              "\n",
              "    [theme=dark] .colab-df-convert {\n",
              "      background-color: #3B4455;\n",
              "      fill: #D2E3FC;\n",
              "    }\n",
              "\n",
              "    [theme=dark] .colab-df-convert:hover {\n",
              "      background-color: #434B5C;\n",
              "      box-shadow: 0px 1px 3px 1px rgba(0, 0, 0, 0.15);\n",
              "      filter: drop-shadow(0px 1px 2px rgba(0, 0, 0, 0.3));\n",
              "      fill: #FFFFFF;\n",
              "    }\n",
              "  </style>\n",
              "\n",
              "    <script>\n",
              "      const buttonEl =\n",
              "        document.querySelector('#df-3db3bc31-6ad4-4323-aa93-d7159ac82c92 button.colab-df-convert');\n",
              "      buttonEl.style.display =\n",
              "        google.colab.kernel.accessAllowed ? 'block' : 'none';\n",
              "\n",
              "      async function convertToInteractive(key) {\n",
              "        const element = document.querySelector('#df-3db3bc31-6ad4-4323-aa93-d7159ac82c92');\n",
              "        const dataTable =\n",
              "          await google.colab.kernel.invokeFunction('convertToInteractive',\n",
              "                                                    [key], {});\n",
              "        if (!dataTable) return;\n",
              "\n",
              "        const docLinkHtml = 'Like what you see? Visit the ' +\n",
              "          '<a target=\"_blank\" href=https://colab.research.google.com/notebooks/data_table.ipynb>data table notebook</a>'\n",
              "          + ' to learn more about interactive tables.';\n",
              "        element.innerHTML = '';\n",
              "        dataTable['output_type'] = 'display_data';\n",
              "        await google.colab.output.renderOutput(dataTable, element);\n",
              "        const docLink = document.createElement('div');\n",
              "        docLink.innerHTML = docLinkHtml;\n",
              "        element.appendChild(docLink);\n",
              "      }\n",
              "    </script>\n",
              "  </div>\n",
              "\n",
              "\n",
              "<div id=\"df-871a8088-709c-4ad7-8acc-562e9fec124d\">\n",
              "  <button class=\"colab-df-quickchart\" onclick=\"quickchart('df-871a8088-709c-4ad7-8acc-562e9fec124d')\"\n",
              "            title=\"Suggest charts\"\n",
              "            style=\"display:none;\">\n",
              "\n",
              "<svg xmlns=\"http://www.w3.org/2000/svg\" height=\"24px\"viewBox=\"0 0 24 24\"\n",
              "     width=\"24px\">\n",
              "    <g>\n",
              "        <path d=\"M19 3H5c-1.1 0-2 .9-2 2v14c0 1.1.9 2 2 2h14c1.1 0 2-.9 2-2V5c0-1.1-.9-2-2-2zM9 17H7v-7h2v7zm4 0h-2V7h2v10zm4 0h-2v-4h2v4z\"/>\n",
              "    </g>\n",
              "</svg>\n",
              "  </button>\n",
              "\n",
              "<style>\n",
              "  .colab-df-quickchart {\n",
              "      --bg-color: #E8F0FE;\n",
              "      --fill-color: #1967D2;\n",
              "      --hover-bg-color: #E2EBFA;\n",
              "      --hover-fill-color: #174EA6;\n",
              "      --disabled-fill-color: #AAA;\n",
              "      --disabled-bg-color: #DDD;\n",
              "  }\n",
              "\n",
              "  [theme=dark] .colab-df-quickchart {\n",
              "      --bg-color: #3B4455;\n",
              "      --fill-color: #D2E3FC;\n",
              "      --hover-bg-color: #434B5C;\n",
              "      --hover-fill-color: #FFFFFF;\n",
              "      --disabled-bg-color: #3B4455;\n",
              "      --disabled-fill-color: #666;\n",
              "  }\n",
              "\n",
              "  .colab-df-quickchart {\n",
              "    background-color: var(--bg-color);\n",
              "    border: none;\n",
              "    border-radius: 50%;\n",
              "    cursor: pointer;\n",
              "    display: none;\n",
              "    fill: var(--fill-color);\n",
              "    height: 32px;\n",
              "    padding: 0;\n",
              "    width: 32px;\n",
              "  }\n",
              "\n",
              "  .colab-df-quickchart:hover {\n",
              "    background-color: var(--hover-bg-color);\n",
              "    box-shadow: 0 1px 2px rgba(60, 64, 67, 0.3), 0 1px 3px 1px rgba(60, 64, 67, 0.15);\n",
              "    fill: var(--button-hover-fill-color);\n",
              "  }\n",
              "\n",
              "  .colab-df-quickchart-complete:disabled,\n",
              "  .colab-df-quickchart-complete:disabled:hover {\n",
              "    background-color: var(--disabled-bg-color);\n",
              "    fill: var(--disabled-fill-color);\n",
              "    box-shadow: none;\n",
              "  }\n",
              "\n",
              "  .colab-df-spinner {\n",
              "    border: 2px solid var(--fill-color);\n",
              "    border-color: transparent;\n",
              "    border-bottom-color: var(--fill-color);\n",
              "    animation:\n",
              "      spin 1s steps(1) infinite;\n",
              "  }\n",
              "\n",
              "  @keyframes spin {\n",
              "    0% {\n",
              "      border-color: transparent;\n",
              "      border-bottom-color: var(--fill-color);\n",
              "      border-left-color: var(--fill-color);\n",
              "    }\n",
              "    20% {\n",
              "      border-color: transparent;\n",
              "      border-left-color: var(--fill-color);\n",
              "      border-top-color: var(--fill-color);\n",
              "    }\n",
              "    30% {\n",
              "      border-color: transparent;\n",
              "      border-left-color: var(--fill-color);\n",
              "      border-top-color: var(--fill-color);\n",
              "      border-right-color: var(--fill-color);\n",
              "    }\n",
              "    40% {\n",
              "      border-color: transparent;\n",
              "      border-right-color: var(--fill-color);\n",
              "      border-top-color: var(--fill-color);\n",
              "    }\n",
              "    60% {\n",
              "      border-color: transparent;\n",
              "      border-right-color: var(--fill-color);\n",
              "    }\n",
              "    80% {\n",
              "      border-color: transparent;\n",
              "      border-right-color: var(--fill-color);\n",
              "      border-bottom-color: var(--fill-color);\n",
              "    }\n",
              "    90% {\n",
              "      border-color: transparent;\n",
              "      border-bottom-color: var(--fill-color);\n",
              "    }\n",
              "  }\n",
              "</style>\n",
              "\n",
              "  <script>\n",
              "    async function quickchart(key) {\n",
              "      const quickchartButtonEl =\n",
              "        document.querySelector('#' + key + ' button');\n",
              "      quickchartButtonEl.disabled = true;  // To prevent multiple clicks.\n",
              "      quickchartButtonEl.classList.add('colab-df-spinner');\n",
              "      try {\n",
              "        const charts = await google.colab.kernel.invokeFunction(\n",
              "            'suggestCharts', [key], {});\n",
              "      } catch (error) {\n",
              "        console.error('Error during call to suggestCharts:', error);\n",
              "      }\n",
              "      quickchartButtonEl.classList.remove('colab-df-spinner');\n",
              "      quickchartButtonEl.classList.add('colab-df-quickchart-complete');\n",
              "    }\n",
              "    (() => {\n",
              "      let quickchartButtonEl =\n",
              "        document.querySelector('#df-871a8088-709c-4ad7-8acc-562e9fec124d button');\n",
              "      quickchartButtonEl.style.display =\n",
              "        google.colab.kernel.accessAllowed ? 'block' : 'none';\n",
              "    })();\n",
              "  </script>\n",
              "</div>\n",
              "\n",
              "    </div>\n",
              "  </div>\n"
            ],
            "application/vnd.google.colaboratory.intrinsic+json": {
              "type": "dataframe",
              "variable_name": "aggregated_10",
              "summary": "{\n  \"name\": \"aggregated_10\",\n  \"rows\": 978,\n  \"fields\": [\n    {\n      \"column\": \"item_id\",\n      \"properties\": {\n        \"dtype\": \"number\",\n        \"std\": 249,\n        \"min\": 100,\n        \"max\": 1090,\n        \"num_unique_values\": 100,\n        \"samples\": [\n          930,\n          630,\n          800\n        ],\n        \"semantic_type\": \"\",\n        \"description\": \"\"\n      }\n    },\n    {\n      \"column\": \"site\",\n      \"properties\": {\n        \"dtype\": \"category\",\n        \"num_unique_values\": 20,\n        \"samples\": [\n          \"F10\",\n          \"F6\",\n          \"F9\"\n        ],\n        \"semantic_type\": \"\",\n        \"description\": \"\"\n      }\n    },\n    {\n      \"column\": \"lead_10\",\n      \"properties\": {\n        \"dtype\": \"number\",\n        \"std\": 10,\n        \"min\": 1,\n        \"max\": 65,\n        \"num_unique_values\": 42,\n        \"samples\": [\n          10,\n          37,\n          7\n        ],\n        \"semantic_type\": \"\",\n        \"description\": \"\"\n      }\n    }\n  ]\n}"
            }
          },
          "metadata": {},
          "execution_count": 111
        }
      ]
    },
    {
      "cell_type": "code",
      "source": [
        "def merge_allocation(soft_df, hard_df, soft_num, hard_num):\n",
        "    soft_day = 'lead_' + str(soft_num)\n",
        "    hard_day = 'lead_' + str(hard_num)\n",
        "    # Merge the two dataframes on 'item_id' and 'site'\n",
        "    merged_df = pd.merge(soft_df, hard_df, on=['item_id', 'site'], how='outer')\n",
        "\n",
        "    # Fill NaN values with zeros\n",
        "    merged_df.fillna(0, inplace=True)\n",
        "\n",
        "    # Ensure the integer type for lead_5 and lead_0 columns\n",
        "    merged_df[soft_day] = merged_df[soft_day].astype(int)\n",
        "    merged_df[hard_day] = merged_df[hard_day].astype(int)\n",
        "\n",
        "    return merged_df"
      ],
      "metadata": {
        "id": "DRKoDOeXM5Ib"
      },
      "execution_count": 104,
      "outputs": []
    },
    {
      "cell_type": "code",
      "source": [
        "# Merge the dataframes and calculate the absolute error\n",
        "merged_10_0_df = merge_allocation(aggregated_10, aggregated_0, soft_num=10, hard_num=0)\n",
        "merged_5_0_df = merge_allocation(aggregated_5, aggregated_0, soft_num=5, hard_num=0)"
      ],
      "metadata": {
        "id": "uLlJb2dTSQ_I"
      },
      "execution_count": 105,
      "outputs": []
    },
    {
      "cell_type": "markdown",
      "source": [
        "# Calculate wmape site and wmape global"
      ],
      "metadata": {
        "id": "-Su_FLKyPDYT"
      }
    },
    {
      "cell_type": "code",
      "source": [
        "def calculate_wmape_site(merged_df, soft_col, hard_col):\n",
        "    total_forecast = merged_df[\"lead_0\"].sum()\n",
        "    site_df = merged_df.copy()\n",
        "    site_df['abs_error'] = (site_df[soft_col] - site_df[hard_col]).abs()\n",
        "\n",
        "    # Calculate WMAPE_site\n",
        "    wmape_site = site_df[\"abs_error\"].sum() / total_forecast\n",
        "\n",
        "    return site_df, wmape_site"
      ],
      "metadata": {
        "id": "X_d1-8imTrmX"
      },
      "execution_count": 106,
      "outputs": []
    },
    {
      "cell_type": "code",
      "source": [
        "def calculate_wmape_global(merged_df, soft_col, hard_col):\n",
        "    total_forecast = merged_df[\"lead_0\"].sum()\n",
        "    global_df = merged_df.copy()\n",
        "    global_df = global_df.groupby('item_id').sum().reset_index()\n",
        "    global_df['abs_error'] = (global_df[soft_col] - global_df[hard_col]).abs()\n",
        "    global_df = global_df.drop(['site'], axis=1, errors='ignore')\n",
        "\n",
        "    # Calculate WMAPE_global\n",
        "    wmape_global = global_df[\"abs_error\"].sum() / total_forecast\n",
        "\n",
        "    return global_df, wmape_global"
      ],
      "metadata": {
        "id": "NjjZ1lu6URrb"
      },
      "execution_count": 107,
      "outputs": []
    },
    {
      "cell_type": "code",
      "source": [
        "site_10_0_df, wmape_10_0_site = calculate_wmape_site(merged_10_0_df, soft_col='lead_10', hard_col='lead_0')\n",
        "global_10_0_df, wmape_10_0_global = calculate_wmape_global(merged_10_0_df, soft_col='lead_10', hard_col='lead_0')"
      ],
      "metadata": {
        "id": "cUgFGh2niyb9"
      },
      "execution_count": 108,
      "outputs": []
    },
    {
      "cell_type": "code",
      "source": [
        "site_5_0_df, wmape_5_0_site = calculate_wmape_site(merged_5_0_df, soft_col='lead_5', hard_col='lead_0')\n",
        "global_5_0_df, wmape_5_0_global = calculate_wmape_global(merged_5_0_df, soft_col='lead_5', hard_col='lead_0')"
      ],
      "metadata": {
        "id": "uOJoKWxbMqmG"
      },
      "execution_count": 109,
      "outputs": []
    },
    {
      "cell_type": "code",
      "source": [
        "lead_days = [10, 5, 0]\n",
        "wmape_site_values = [wmape_10_0_site, wmape_5_0_site, 0]\n",
        "wmape_global_values = [wmape_10_0_global, wmape_5_0_global, 0]\n",
        "\n",
        "# Plot the data\n",
        "plt.plot(lead_days, wmape_site_values, linestyle='-', color='b', label=\"wmape_site\")\n",
        "plt.plot(lead_days, wmape_global_values, linestyle='-', color='r', label=\"wmape_global\")\n",
        "plt.xlabel('Lead Day')\n",
        "plt.ylabel('Error')\n",
        "plt.title('Error Values for Different Lead Days')\n",
        "plt.xticks([10, 5, 0])\n",
        "plt.legend()\n",
        "plt.gca().invert_xaxis()  # Invert x-axis to have 0 at the end\n",
        "plt.show()"
      ],
      "metadata": {
        "colab": {
          "base_uri": "https://localhost:8080/",
          "height": 472
        },
        "id": "XNEEdxdwVyYH",
        "outputId": "f808f52c-a921-48ba-814a-5b1ef5efac43"
      },
      "execution_count": 110,
      "outputs": [
        {
          "output_type": "display_data",
          "data": {
            "text/plain": [
              "<Figure size 640x480 with 1 Axes>"
            ],
            "image/png": "[encoded data removed]"
          },
          "metadata": {}
        }
      ]
    },
    {
      "cell_type": "code",
      "source": [],
      "metadata": {
        "id": "9Sd0VtLzZACc"
      },
      "execution_count": null,
      "outputs": []
    }
  ]
}