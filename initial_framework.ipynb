{
  "nbformat": 4,
  "nbformat_minor": 0,
  "metadata": {
    "colab": {
      "provenance": [],
      "authorship_tag": "ABX9TyPXoxh/5Jb8YgcN+2KZJ5un",
      "include_colab_link": true
    },
    "kernelspec": {
      "name": "python3",
      "display_name": "Python 3"
    },
    "language_info": {
      "name": "python"
    }
  },
  "cells": [
    {
      "cell_type": "markdown",
      "metadata": {
        "id": "view-in-github",
        "colab_type": "text"
      },
      "source": [
        "<a href=\"https://colab.research.google.com/github/SirwaniViren/MSc-Gousto-Project/blob/main/initial_framework.ipynb\" target=\"_parent\"><img src=\"https://colab.research.google.com/assets/colab-badge.svg\" alt=\"Open In Colab\"/></a>"
      ]
    },
    {
      "cell_type": "code",
      "execution_count": 2,
      "metadata": {
        "id": "gz3YANJdc2Rs"
      },
      "outputs": [],
      "source": [
        "import math\n",
        "import numpy as np\n",
        "import pandas as pd"
      ]
    },
    {
      "cell_type": "code",
      "source": [
        "# Sample data\n",
        "recipes = [f\"Recipe_{i}\" for i in range(1, 501)]\n",
        "factories = [f\"Factory_{i}\" for i in range(1, 101)]\n",
        "\n",
        "# Create a dictionary for factories and the recipes they offer\n",
        "factory_recipes = {factory: np.random.choice(recipes, size=np.random.randint(1, 50), replace=False).tolist() for factory in factories}"
      ],
      "metadata": {
        "id": "sr5gaVJjdHrR"
      },
      "execution_count": 3,
      "outputs": []
    },
    {
      "cell_type": "code",
      "source": [],
      "metadata": {
        "id": "W2F-zzy8ogJs"
      },
      "execution_count": null,
      "outputs": []
    }
  ]
}