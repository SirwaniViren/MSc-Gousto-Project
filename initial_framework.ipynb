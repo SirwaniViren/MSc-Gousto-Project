{
  "nbformat": 4,
  "nbformat_minor": 0,
  "metadata": {
    "colab": {
      "provenance": [],
      "authorship_tag": "ABX9TyPbxF3xiekem+ysutAkSOz7",
      "include_colab_link": true
    },
    "kernelspec": {
      "name": "python3",
      "display_name": "Python 3"
    },
    "language_info": {
      "name": "python"
    }
  },
  "cells": [
    {
      "cell_type": "markdown",
      "metadata": {
        "id": "view-in-github",
        "colab_type": "text"
      },
      "source": [
        "<a href=\"https://colab.research.google.com/github/SirwaniViren/MSc-Gousto-Project/blob/main/initial_framework.ipynb\" target=\"_parent\"><img src=\"https://colab.research.google.com/assets/colab-badge.svg\" alt=\"Open In Colab\"/></a>"
      ]
    },
    {
      "cell_type": "code",
      "execution_count": 1,
      "metadata": {
        "id": "gz3YANJdc2Rs"
      },
      "outputs": [],
      "source": [
        "import math\n",
        "import numpy as np\n",
        "import pandas as pd"
      ]
    },
    {
      "cell_type": "code",
      "source": [
        "# Sample data\n",
        "recipes = [f\"Recipe_{i}\" for i in range(1, 501)]\n",
        "factories = [f\"Factory_{i}\" for i in range(1, 101)]\n",
        "\n",
        "# Create a dictionary for factories and the recipes they offer\n",
        "factory_recipes = {factory: np.random.choice(recipes, size=np.random.randint(1, 50), replace=False).tolist() for factory in factories}"
      ],
      "metadata": {
        "id": "sr5gaVJjdHrR"
      },
      "execution_count": 2,
      "outputs": []
    },
    {
      "cell_type": "code",
      "source": [
        "# Initialize data for day 18\n",
        "data = []\n",
        "for factory, recs in factory_recipes.items():\n",
        "    for recipe in recs:\n",
        "        forecast = np.random.randint(1, 100)  # Simulated forecast data\n",
        "        hard_allocation = np.random.randint(1, 100)  # Simulated hard allocation data\n",
        "        abs_error = abs(forecast - hard_allocation)\n",
        "        data.append([recipe, factory, forecast, hard_allocation, abs_error])\n",
        "\n",
        "# Create DataFrame\n",
        "df = pd.DataFrame(data, columns=[\"Recipe\", \"Factory\", \"Forecast\", \"Hard_Allocation\", \"Absolute_Error\"])\n"
      ],
      "metadata": {
        "id": "W2F-zzy8ogJs"
      },
      "execution_count": 7,
      "outputs": []
    },
    {
      "cell_type": "code",
      "source": [
        "# Display the DataFrame\n",
        "print(df.head())"
      ],
      "metadata": {
        "id": "MLAdE9snmtHL",
        "outputId": "a9933229-c0f1-4d60-82c5-9499f8fc8d0f",
        "colab": {
          "base_uri": "https://localhost:8080/"
        }
      },
      "execution_count": 8,
      "outputs": [
        {
          "output_type": "stream",
          "name": "stdout",
          "text": [
            "       Recipe    Factory  Forecast  Hard_Allocation  Absolute_Error\n",
            "0  Recipe_490  Factory_1        62               89              27\n",
            "1   Recipe_62  Factory_1        25               23               2\n",
            "2  Recipe_253  Factory_1        61               36              25\n",
            "3   Recipe_20  Factory_1        26                5              21\n",
            "4  Recipe_384  Factory_1        71               32              39\n"
          ]
        }
      ]
    },
    {
      "cell_type": "code",
      "source": [
        "# Calculate WMAPE\n",
        "total_forecast = df[\"Forecast\"].sum()\n",
        "wmape = df[\"Absolute_Error\"].sum() / total_forecast\n",
        "\n",
        "# Display WMAPE\n",
        "print(f\"Weighted Mean Absolute Percentage Error (WMAPE): {wmape:.4f}\")"
      ],
      "metadata": {
        "id": "A1hUSrSungnB",
        "outputId": "aedf7795-460a-43f9-a8bf-43093bf6d26d",
        "colab": {
          "base_uri": "https://localhost:8080/"
        }
      },
      "execution_count": 9,
      "outputs": [
        {
          "output_type": "stream",
          "name": "stdout",
          "text": [
            "Weighted Mean Absolute Percentage Error (WMAPE): 0.6561\n"
          ]
        }
      ]
    }
  ]
}